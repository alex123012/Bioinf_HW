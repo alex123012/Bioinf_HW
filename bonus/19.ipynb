{
 "cells": [
  {
   "cell_type": "code",
   "execution_count": 1,
   "id": "addf2ed3",
   "metadata": {},
   "outputs": [],
   "source": [
    "import pandas as pd\n",
    "import numpy as np\n",
    "\n",
    "from sklearn.metrics import accuracy_score, classification_report\n",
    "from sklearn.model_selection import train_test_split\n",
    "from sklearn.metrics import confusion_matrix, plot_roc_curve\n",
    "from sklearn.metrics import make_scorer, precision_recall_fscore_support\n",
    "\n",
    "from sklearn.decomposition import PCA\n",
    "from sklearn.manifold import TSNE\n",
    "\n",
    "from sklearn.pipeline import Pipeline\n",
    "from sklearn.preprocessing import StandardScaler\n",
    "from sklearn.neighbors import KNeighborsClassifier\n",
    "\n",
    "from sklearn.model_selection import cross_val_score\n",
    "from sklearn.model_selection import RepeatedStratifiedKFold\n",
    "from sklearn.model_selection import GridSearchCV\n",
    "\n",
    "import seaborn as sns\n",
    "import matplotlib.pyplot as plt\n",
    "\n",
    "import warnings\n",
    "warnings.filterwarnings(\"ignore\")"
   ]
  },
  {
   "cell_type": "code",
   "execution_count": 2,
   "id": "106e6202",
   "metadata": {},
   "outputs": [],
   "source": [
    "path = 'https://raw.githubusercontent.com/s-a-nersisyan/HSE_bioinformatics_2021/master/seminar15/BRCA_pam50.tsv'\n",
    "df = pd.read_csv(path, sep=\"\\t\", index_col=0)\n",
    "X = df.iloc[:, :-1].to_numpy()\n",
    "y = df[\"Subtype\"].to_numpy()"
   ]
  },
  {
   "cell_type": "code",
   "execution_count": 3,
   "id": "ac028f89",
   "metadata": {},
   "outputs": [
    {
     "name": "stdout",
     "output_type": "stream",
     "text": [
      "(915, 50)\n",
      "best params: {'n_neighbors': 5, 'p': 1, 'weights': 'distance'}\n",
      "best score: 0.9067874396135267\n",
      "\n",
      "\n",
      "                 precision    recall  f1-score   support\n",
      "\n",
      "  HER2-enriched       0.94      0.77      0.85        22\n",
      "        Healthy       0.95      1.00      0.97        35\n",
      "      Luminal A       0.85      0.99      0.91       144\n",
      "      Luminal B       0.88      0.71      0.79        65\n",
      "    Normal-like       1.00      0.12      0.22         8\n",
      "Triple-negative       1.00      0.98      0.99        47\n",
      "\n",
      "       accuracy                           0.89       321\n",
      "      macro avg       0.94      0.76      0.79       321\n",
      "   weighted avg       0.90      0.89      0.88       321\n",
      "\n"
     ]
    }
   ],
   "source": [
    "def make_model(X, y, params=None):\n",
    "    model = KNeighborsClassifier()\n",
    "\n",
    "    params = {\n",
    "        \"n_neighbors\": [*range(1, 20)],\n",
    "        \"weights\": [\"uniform\", \"distance\"],\n",
    "        \"p\": [1, 2]\n",
    "    } if not params else params\n",
    "\n",
    "    cv = GridSearchCV(\n",
    "        model, params,\n",
    "        scoring=make_scorer(accuracy_score),\n",
    "        cv=RepeatedStratifiedKFold(n_repeats=10, n_splits=20)\n",
    "    )\n",
    "    cv.fit(X, y)\n",
    "    \n",
    "    print('best params:', cv.best_params_)\n",
    "    print('best score:', cv.best_score_)\n",
    "    print('\\n')\n",
    "\n",
    "    model = KNeighborsClassifier().set_params(**cv.best_params_)\n",
    "    \n",
    "    X_train, X_test, y_train, y_test = train_test_split(\n",
    "            X, y, stratify=y, test_size=0.35, random_state=17\n",
    "        )\n",
    "    model.fit(X_train, y_train)\n",
    "    y_pred = model.predict(X_test)\n",
    "    \n",
    "    print(classification_report(y_test, y_pred))\n",
    "print(X.shape)\n",
    "make_model(X, y)"
   ]
  },
  {
   "cell_type": "code",
   "execution_count": 4,
   "id": "b56d8cbd",
   "metadata": {},
   "outputs": [
    {
     "name": "stdout",
     "output_type": "stream",
     "text": [
      "(915, 2)\n",
      "best params: {'n_neighbors': 15, 'p': 2, 'weights': 'uniform'}\n",
      "best score: 0.8623091787439614\n",
      "\n",
      "\n",
      "                 precision    recall  f1-score   support\n",
      "\n",
      "  HER2-enriched       0.82      0.64      0.72        22\n",
      "        Healthy       0.88      0.86      0.87        35\n",
      "      Luminal A       0.82      0.94      0.88       144\n",
      "      Luminal B       0.75      0.69      0.72        65\n",
      "    Normal-like       0.00      0.00      0.00         8\n",
      "Triple-negative       1.00      0.98      0.99        47\n",
      "\n",
      "       accuracy                           0.84       321\n",
      "      macro avg       0.71      0.68      0.70       321\n",
      "   weighted avg       0.82      0.84      0.83       321\n",
      "\n"
     ]
    }
   ],
   "source": [
    "pca = PCA(n_components=2)\n",
    "X_pca = pca.fit_transform(X)\n",
    "print(X_pca.shape)\n",
    "make_model(X_pca, y)"
   ]
  },
  {
   "cell_type": "code",
   "execution_count": 5,
   "id": "5b93855e",
   "metadata": {},
   "outputs": [
    {
     "name": "stdout",
     "output_type": "stream",
     "text": [
      "(915, 2)\n",
      "best params: {'n_neighbors': 10, 'p': 1, 'weights': 'distance'}\n",
      "best score: 0.8912391304347825\n",
      "\n",
      "\n",
      "                 precision    recall  f1-score   support\n",
      "\n",
      "  HER2-enriched       1.00      0.82      0.90        22\n",
      "        Healthy       0.95      1.00      0.97        35\n",
      "      Luminal A       0.86      0.94      0.90       144\n",
      "      Luminal B       0.83      0.75      0.79        65\n",
      "    Normal-like       0.50      0.12      0.20         8\n",
      "Triple-negative       1.00      1.00      1.00        47\n",
      "\n",
      "       accuracy                           0.89       321\n",
      "      macro avg       0.86      0.77      0.79       321\n",
      "   weighted avg       0.88      0.89      0.88       321\n",
      "\n"
     ]
    }
   ],
   "source": [
    "tsne = TSNE(n_components=2)\n",
    "X_tsne = tsne.fit_transform(X)\n",
    "print(X_tsne.shape)\n",
    "make_model(X_tsne, y)"
   ]
  }
 ],
 "metadata": {
  "kernelspec": {
   "display_name": "Python 3",
   "language": "python",
   "name": "python3"
  },
  "language_info": {
   "codemirror_mode": {
    "name": "ipython",
    "version": 3
   },
   "file_extension": ".py",
   "mimetype": "text/x-python",
   "name": "python",
   "nbconvert_exporter": "python",
   "pygments_lexer": "ipython3",
   "version": "3.8.5"
  }
 },
 "nbformat": 4,
 "nbformat_minor": 5
}
