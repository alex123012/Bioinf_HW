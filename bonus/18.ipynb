{
 "cells": [
  {
   "cell_type": "code",
   "execution_count": 1,
   "id": "18d01fe8",
   "metadata": {},
   "outputs": [],
   "source": [
    "import numpy as np\n",
    "import pandas as pd\n",
    "import time\n",
    "import seaborn as sns\n",
    "import matplotlib.pyplot as plt"
   ]
  },
  {
   "cell_type": "code",
   "execution_count": 2,
   "id": "3651465d",
   "metadata": {},
   "outputs": [],
   "source": [
    "def nlogn_median(l):\n",
    "    l = sorted(l)\n",
    "    if len(l) % 2 == 1:\n",
    "        return l[len(l) // 2]\n",
    "    else:\n",
    "        return 0.5 * (l[len(l) // 2 - 1] + l[len(l) // 2])\n"
   ]
  },
  {
   "cell_type": "code",
   "execution_count": 3,
   "id": "7de3f020",
   "metadata": {},
   "outputs": [],
   "source": [
    "def quickselect(l, k, pivot_fn):\n",
    "    \"\"\"\n",
    "    Выбираем k-тый элемент в списке l (с нулевой базой)\n",
    "    :param l: список числовых данных\n",
    "    :param k: индекс\n",
    "    :param pivot_fn: функция выбора pivot, по умолчанию выбирает случайно\n",
    "    :return: k-тый элемент l\n",
    "    \"\"\"\n",
    "    if len(l) == 1:\n",
    "#         assert k == 0\n",
    "        return l[0]\n",
    "\n",
    "    pivot = pivot_fn(l)\n",
    "\n",
    "    lows = [el for el in l if el < pivot]\n",
    "    highs = [el for el in l if el > pivot]\n",
    "    pivots = [el for el in l if el == pivot]\n",
    "\n",
    "    if k < len(lows):\n",
    "        return quickselect(lows, k, pivot_fn)\n",
    "    elif k < len(lows) + len(pivots):\n",
    "        # Нам повезло и мы угадали медиану\n",
    "        return pivots[0]\n",
    "    else:\n",
    "        return quickselect(highs, k - len(lows) - len(pivots), pivot_fn)"
   ]
  },
  {
   "cell_type": "code",
   "execution_count": 4,
   "id": "f3c34a6a",
   "metadata": {},
   "outputs": [],
   "source": [
    "def quickselect_median(l, pivot_fn=np.random.choice):\n",
    "    if len(l) % 2 == 1:\n",
    "        return quickselect(l, len(l) / 2, pivot_fn)\n",
    "    else:\n",
    "        return 0.5 * (quickselect(l, len(l) / 2 - 1, pivot_fn) +\n",
    "                      quickselect(l, len(l) / 2, pivot_fn))\n"
   ]
  },
  {
   "cell_type": "code",
   "execution_count": 5,
   "id": "bca4574e",
   "metadata": {},
   "outputs": [],
   "source": [
    "def pick_pivot(l):\n",
    "    \"\"\"\n",
    "    Выбираем хорошй pivot в списке чисел l\n",
    "    Этот алгоритм выполняется за время O(n).\n",
    "    \"\"\"\n",
    "    assert len(l) > 0\n",
    "\n",
    "    # Если элементов < 5, просто возвращаем медиану\n",
    "    if len(l) < 5:\n",
    "        return nlogn_median(l)\n",
    "\n",
    "    # Сначала разделим l на группы по 5 элементов. O(n)\n",
    "    full_chunks = chunked(l, 5)\n",
    "\n",
    "    # Для простоты мы можем отбросить все группы, которые не являются полными. O(n)\n",
    "    # Медиана каждого фрагмента имеет индекс 2\n",
    "    medians = [np.median(chunk) for chunk in full_chunks]\n",
    "#     medians += np.median(full_chunks[-1])\n",
    "\n",
    "    median_of_medians = quickselect_median(medians, pick_pivot)\n",
    "    return median_of_medians\n",
    "\n",
    "def chunked(l, chunk_size):\n",
    "    \"\"\"Разделяем список `l` на фрагменты размером `chunk_size`.\"\"\"\n",
    "    return [l[i:i + chunk_size] for i in range(0, len(l), chunk_size)]"
   ]
  },
  {
   "cell_type": "code",
   "execution_count": 6,
   "id": "ddb0a440",
   "metadata": {},
   "outputs": [
    {
     "data": {
      "text/plain": [
       "(6.0, 6.0)"
      ]
     },
     "execution_count": 6,
     "metadata": {},
     "output_type": "execute_result"
    }
   ],
   "source": [
    "ls = np.asarray([*range(0, 15, 3)])\n",
    "pick_pivot(ls), np.median(ls)"
   ]
  },
  {
   "cell_type": "code",
   "execution_count": null,
   "id": "16165f55",
   "metadata": {
    "scrolled": true
   },
   "outputs": [
    {
     "name": "stdout",
     "output_type": "stream",
     "text": [
      "\n",
      "\n",
      "(4.0, 5.0, array([1, 5, 8, ..., 9, 4, 5]))\n",
      "\n",
      "\n",
      "(5.0, 4.0, array([8, 4, 6, ..., 6, 4, 6]))\n",
      "\n",
      "\n",
      "\n",
      "\n",
      "(4.0, 5.0, array([6, 7, 3, ..., 8, 5, 6]))\n",
      "\n",
      "(5.0, 4.0, array([3, 2, 1, ..., 9, 4, 6]))\n",
      "\n",
      "\n",
      "\n"
     ]
    }
   ],
   "source": [
    "df = pd.DataFrame({}, columns=['time', 'count'])\n",
    "\n",
    "for i in range(10, int(1e6), 10000):\n",
    "    tmp = np.random.randint(0, 10, i)\n",
    "    start_time = time.time()\n",
    "    med = pick_pivot(tmp)\n",
    "    df.loc[i] = [i, time.time() - start_time]\n",
    "    print((med, np.median(tmp), tmp) if med != np.median(tmp) else '')"
   ]
  },
  {
   "cell_type": "code",
   "execution_count": null,
   "id": "f2163e35",
   "metadata": {
    "scrolled": true
   },
   "outputs": [],
   "source": [
    "from scipy.stats import linregress\n",
    "x, y = df['count'].to_numpy(), df['time'].to_numpy()\n",
    "slope, intercept, r, p, se = linregress(x, y)\n",
    "plt.plot(x, y, 'o', label='original data')\n",
    "plt.plot(x, intercept + slope*x, 'r', label='fitted line')\n",
    "plt.legend()\n",
    "plt.show()"
   ]
  },
  {
   "cell_type": "code",
   "execution_count": null,
   "id": "6dbead80",
   "metadata": {},
   "outputs": [],
   "source": [
    "np.median([1])"
   ]
  },
  {
   "cell_type": "code",
   "execution_count": null,
   "id": "92ff63f0",
   "metadata": {},
   "outputs": [],
   "source": []
  }
 ],
 "metadata": {
  "kernelspec": {
   "display_name": "Python 3",
   "language": "python",
   "name": "python3"
  },
  "language_info": {
   "codemirror_mode": {
    "name": "ipython",
    "version": 3
   },
   "file_extension": ".py",
   "mimetype": "text/x-python",
   "name": "python",
   "nbconvert_exporter": "python",
   "pygments_lexer": "ipython3",
   "version": "3.8.5"
  }
 },
 "nbformat": 4,
 "nbformat_minor": 5
}
