{
 "cells": [
  {
   "cell_type": "code",
   "execution_count": 1,
   "id": "18d01fe8",
   "metadata": {},
   "outputs": [],
   "source": [
    "import numpy as np"
   ]
  },
  {
   "cell_type": "code",
   "execution_count": 6,
   "id": "7de3f020",
   "metadata": {},
   "outputs": [],
   "source": [
    "def quickselect(l, k, pivot_fn):\n",
    "    \"\"\"\n",
    "    Выбираем k-тый элемент в списке l (с нулевой базой)\n",
    "    :param l: список числовых данных\n",
    "    :param k: индекс\n",
    "    :param pivot_fn: функция выбора pivot, по умолчанию выбирает случайно\n",
    "    :return: k-тый элемент l\n",
    "    \"\"\"\n",
    "    if len(l) == 1:\n",
    "        print(k)\n",
    "        assert k == 0\n",
    "        return l[0]\n",
    "\n",
    "    pivot = pivot_fn(l)\n",
    "\n",
    "    lows = [el for el in l if el < pivot]\n",
    "    highs = [el for el in l if el > pivot]\n",
    "    pivots = [el for el in l if el == pivot]\n",
    "\n",
    "    if k < len(lows):\n",
    "        return quickselect(lows, k, pivot_fn)\n",
    "    elif k < len(lows) + len(pivots):\n",
    "        # Нам повезло и мы угадали медиану\n",
    "        return pivots[0]\n",
    "    else:\n",
    "        return quickselect(highs, k - len(lows) - len(pivots), pivot_fn)"
   ]
  },
  {
   "cell_type": "code",
   "execution_count": 7,
   "id": "f3c34a6a",
   "metadata": {},
   "outputs": [],
   "source": [
    "def quickselect_median(l, pivot_fn=np.random.choice):\n",
    "    if len(l) % 2 == 1:\n",
    "        return quickselect(l, len(l) / 2, pivot_fn)\n",
    "    else:\n",
    "        return 0.5 * (quickselect(l, len(l) / 2 - 1, pivot_fn) +\n",
    "                      quickselect(l, len(l) / 2, pivot_fn))\n"
   ]
  },
  {
   "cell_type": "code",
   "execution_count": 8,
   "id": "bca4574e",
   "metadata": {},
   "outputs": [],
   "source": [
    "def pick_pivot(l):\n",
    "    \"\"\"\n",
    "    Выбираем хорошй pivot в списке чисел l\n",
    "    Этот алгоритм выполняется за время O(n).\n",
    "    \"\"\"\n",
    "    assert len(l) > 0\n",
    "\n",
    "    # Если элементов < 5, просто возвращаем медиану\n",
    "#     if len(l) < 5:\n",
    "#         # В этом случае мы возвращаемся к первой написанной нами функции медианы. \n",
    "#         # Поскольку мы выполняем её только для списка из пяти или менее элементов, она не \n",
    "#         # зависит от длины входных данных и может считаться постоянным\n",
    "#         # временем.\n",
    "#         return nlogn_median(l)\n",
    "\n",
    "    # Сначала разделим l на группы по 5 элементов. O(n)\n",
    "    chunks = chunked(l, 5)\n",
    "\n",
    "    # Для простоты мы можем отбросить все группы, которые не являются полными. O(n)\n",
    "    full_chunks = [chunk for chunk in chunks if len(chunk) == 5]\n",
    "\n",
    "\n",
    "    # Затем мы сортируем каждый фрагмент. Каждая группа имеет фиксированную длину, поэтому каждая сортировка\n",
    "    # занимает постоянное время. Поскольку у нас есть n/5 фрагментов, эта операция \n",
    "    # тоже O(n)\n",
    "    sorted_groups = [sorted(chunk) for chunk in full_chunks]\n",
    "\n",
    "    # Медиана каждого фрагмента имеет индекс 2\n",
    "    medians = [chunk[2] for chunk in sorted_groups]\n",
    "\n",
    "    # Возможно, я немного повторюсь, но я собираюсь доказать, что нахождение\n",
    "    # медианы списка можно произвести за доказуемое O(n).\n",
    "    # Мы находим медиану списка длиной n/5, поэтому эта операция также O(n)\n",
    "    # Мы передаём нашу текущую функцию pick_pivot в качестве создателя pivot алгоритму\n",
    "    # quickselect. O(n)\n",
    "    median_of_medians = quickselect_median(medians, pick_pivot)\n",
    "    return median_of_medians\n",
    "\n",
    "def chunked(l, chunk_size):\n",
    "    \"\"\"Разделяем список `l` на фрагменты размером `chunk_size`.\"\"\"\n",
    "    return [l[i:i + chunk_size] for i in range(0, len(l), chunk_size)]"
   ]
  },
  {
   "cell_type": "code",
   "execution_count": 9,
   "id": "ddb0a440",
   "metadata": {},
   "outputs": [
    {
     "name": "stdout",
     "output_type": "stream",
     "text": [
      "0.5\n"
     ]
    },
    {
     "ename": "AssertionError",
     "evalue": "",
     "output_type": "error",
     "traceback": [
      "\u001b[0;31m---------------------------------------------------------------------------\u001b[0m",
      "\u001b[0;31mAssertionError\u001b[0m                            Traceback (most recent call last)",
      "\u001b[0;32m<ipython-input-9-881821455a68>\u001b[0m in \u001b[0;36m<module>\u001b[0;34m\u001b[0m\n\u001b[0;32m----> 1\u001b[0;31m \u001b[0mpick_pivot\u001b[0m\u001b[0;34m(\u001b[0m\u001b[0;34m[\u001b[0m\u001b[0;36m2\u001b[0m\u001b[0;34m,\u001b[0m\u001b[0;36m4\u001b[0m\u001b[0;34m,\u001b[0m\u001b[0;36m5\u001b[0m\u001b[0;34m,\u001b[0m\u001b[0;36m6\u001b[0m\u001b[0;34m,\u001b[0m\u001b[0;36m7\u001b[0m\u001b[0;34m,\u001b[0m\u001b[0;36m8\u001b[0m\u001b[0;34m,\u001b[0m\u001b[0;36m9\u001b[0m\u001b[0;34m]\u001b[0m\u001b[0;34m)\u001b[0m\u001b[0;34m\u001b[0m\u001b[0;34m\u001b[0m\u001b[0m\n\u001b[0m",
      "\u001b[0;32m<ipython-input-8-45b63f9c3c5b>\u001b[0m in \u001b[0;36mpick_pivot\u001b[0;34m(l)\u001b[0m\n\u001b[1;32m     34\u001b[0m     \u001b[0;31m# Мы передаём нашу текущую функцию pick_pivot в качестве создателя pivot алгоритму\u001b[0m\u001b[0;34m\u001b[0m\u001b[0;34m\u001b[0m\u001b[0;34m\u001b[0m\u001b[0m\n\u001b[1;32m     35\u001b[0m     \u001b[0;31m# quickselect. O(n)\u001b[0m\u001b[0;34m\u001b[0m\u001b[0;34m\u001b[0m\u001b[0;34m\u001b[0m\u001b[0m\n\u001b[0;32m---> 36\u001b[0;31m     \u001b[0mmedian_of_medians\u001b[0m \u001b[0;34m=\u001b[0m \u001b[0mquickselect_median\u001b[0m\u001b[0;34m(\u001b[0m\u001b[0mmedians\u001b[0m\u001b[0;34m,\u001b[0m \u001b[0mpick_pivot\u001b[0m\u001b[0;34m)\u001b[0m\u001b[0;34m\u001b[0m\u001b[0;34m\u001b[0m\u001b[0m\n\u001b[0m\u001b[1;32m     37\u001b[0m     \u001b[0;32mreturn\u001b[0m \u001b[0mmedian_of_medians\u001b[0m\u001b[0;34m\u001b[0m\u001b[0;34m\u001b[0m\u001b[0m\n\u001b[1;32m     38\u001b[0m \u001b[0;34m\u001b[0m\u001b[0m\n",
      "\u001b[0;32m<ipython-input-7-3208e5ad434b>\u001b[0m in \u001b[0;36mquickselect_median\u001b[0;34m(l, pivot_fn)\u001b[0m\n\u001b[1;32m      1\u001b[0m \u001b[0;32mdef\u001b[0m \u001b[0mquickselect_median\u001b[0m\u001b[0;34m(\u001b[0m\u001b[0ml\u001b[0m\u001b[0;34m,\u001b[0m \u001b[0mpivot_fn\u001b[0m\u001b[0;34m=\u001b[0m\u001b[0mnp\u001b[0m\u001b[0;34m.\u001b[0m\u001b[0mrandom\u001b[0m\u001b[0;34m.\u001b[0m\u001b[0mchoice\u001b[0m\u001b[0;34m)\u001b[0m\u001b[0;34m:\u001b[0m\u001b[0;34m\u001b[0m\u001b[0;34m\u001b[0m\u001b[0m\n\u001b[1;32m      2\u001b[0m     \u001b[0;32mif\u001b[0m \u001b[0mlen\u001b[0m\u001b[0;34m(\u001b[0m\u001b[0ml\u001b[0m\u001b[0;34m)\u001b[0m \u001b[0;34m%\u001b[0m \u001b[0;36m2\u001b[0m \u001b[0;34m==\u001b[0m \u001b[0;36m1\u001b[0m\u001b[0;34m:\u001b[0m\u001b[0;34m\u001b[0m\u001b[0;34m\u001b[0m\u001b[0m\n\u001b[0;32m----> 3\u001b[0;31m         \u001b[0;32mreturn\u001b[0m \u001b[0mquickselect\u001b[0m\u001b[0;34m(\u001b[0m\u001b[0ml\u001b[0m\u001b[0;34m,\u001b[0m \u001b[0mlen\u001b[0m\u001b[0;34m(\u001b[0m\u001b[0ml\u001b[0m\u001b[0;34m)\u001b[0m \u001b[0;34m/\u001b[0m \u001b[0;36m2\u001b[0m\u001b[0;34m,\u001b[0m \u001b[0mpivot_fn\u001b[0m\u001b[0;34m)\u001b[0m\u001b[0;34m\u001b[0m\u001b[0;34m\u001b[0m\u001b[0m\n\u001b[0m\u001b[1;32m      4\u001b[0m     \u001b[0;32melse\u001b[0m\u001b[0;34m:\u001b[0m\u001b[0;34m\u001b[0m\u001b[0;34m\u001b[0m\u001b[0m\n\u001b[1;32m      5\u001b[0m         return 0.5 * (quickselect(l, len(l) / 2 - 1, pivot_fn) +\n",
      "\u001b[0;32m<ipython-input-6-58183f7b947e>\u001b[0m in \u001b[0;36mquickselect\u001b[0;34m(l, k, pivot_fn)\u001b[0m\n\u001b[1;32m      9\u001b[0m     \u001b[0;32mif\u001b[0m \u001b[0mlen\u001b[0m\u001b[0;34m(\u001b[0m\u001b[0ml\u001b[0m\u001b[0;34m)\u001b[0m \u001b[0;34m==\u001b[0m \u001b[0;36m1\u001b[0m\u001b[0;34m:\u001b[0m\u001b[0;34m\u001b[0m\u001b[0;34m\u001b[0m\u001b[0m\n\u001b[1;32m     10\u001b[0m         \u001b[0mprint\u001b[0m\u001b[0;34m(\u001b[0m\u001b[0mk\u001b[0m\u001b[0;34m)\u001b[0m\u001b[0;34m\u001b[0m\u001b[0;34m\u001b[0m\u001b[0m\n\u001b[0;32m---> 11\u001b[0;31m         \u001b[0;32massert\u001b[0m \u001b[0mk\u001b[0m \u001b[0;34m==\u001b[0m \u001b[0;36m0\u001b[0m\u001b[0;34m\u001b[0m\u001b[0;34m\u001b[0m\u001b[0m\n\u001b[0m\u001b[1;32m     12\u001b[0m         \u001b[0;32mreturn\u001b[0m \u001b[0ml\u001b[0m\u001b[0;34m[\u001b[0m\u001b[0;36m0\u001b[0m\u001b[0;34m]\u001b[0m\u001b[0;34m\u001b[0m\u001b[0;34m\u001b[0m\u001b[0m\n\u001b[1;32m     13\u001b[0m \u001b[0;34m\u001b[0m\u001b[0m\n",
      "\u001b[0;31mAssertionError\u001b[0m: "
     ]
    }
   ],
   "source": [
    "pick_pivot([2,4,5,6,7,8,9])"
   ]
  },
  {
   "cell_type": "code",
   "execution_count": 10,
   "id": "16165f55",
   "metadata": {},
   "outputs": [
    {
     "ename": "AssertionError",
     "evalue": "",
     "output_type": "error",
     "traceback": [
      "\u001b[0;31m---------------------------------------------------------------------------\u001b[0m",
      "\u001b[0;31mAssertionError\u001b[0m                            Traceback (most recent call last)",
      "\u001b[0;32m<ipython-input-10-37d1ccedb9eb>\u001b[0m in \u001b[0;36m<module>\u001b[0;34m\u001b[0m\n\u001b[1;32m      1\u001b[0m \u001b[0;32mfor\u001b[0m \u001b[0mi\u001b[0m \u001b[0;32min\u001b[0m \u001b[0mrange\u001b[0m\u001b[0;34m(\u001b[0m\u001b[0;36m10\u001b[0m\u001b[0;34m,\u001b[0m \u001b[0mint\u001b[0m\u001b[0;34m(\u001b[0m\u001b[0;36m1e6\u001b[0m\u001b[0;34m)\u001b[0m\u001b[0;34m,\u001b[0m \u001b[0;36m1000\u001b[0m\u001b[0;34m)\u001b[0m\u001b[0;34m:\u001b[0m\u001b[0;34m\u001b[0m\u001b[0;34m\u001b[0m\u001b[0m\n\u001b[1;32m      2\u001b[0m     \u001b[0mtmp\u001b[0m \u001b[0;34m=\u001b[0m \u001b[0mnp\u001b[0m\u001b[0;34m.\u001b[0m\u001b[0mrandom\u001b[0m\u001b[0;34m.\u001b[0m\u001b[0mrandint\u001b[0m\u001b[0;34m(\u001b[0m\u001b[0;36m0\u001b[0m\u001b[0;34m,\u001b[0m \u001b[0;36m10\u001b[0m\u001b[0;34m,\u001b[0m \u001b[0mi\u001b[0m\u001b[0;34m)\u001b[0m\u001b[0;34m.\u001b[0m\u001b[0mtolist\u001b[0m\u001b[0;34m(\u001b[0m\u001b[0;34m)\u001b[0m\u001b[0;34m\u001b[0m\u001b[0;34m\u001b[0m\u001b[0m\n\u001b[0;32m----> 3\u001b[0;31m     \u001b[0mprint\u001b[0m\u001b[0;34m(\u001b[0m\u001b[0mpick_pivot\u001b[0m\u001b[0;34m(\u001b[0m\u001b[0mtmp\u001b[0m\u001b[0;34m)\u001b[0m\u001b[0;34m)\u001b[0m\u001b[0;34m\u001b[0m\u001b[0;34m\u001b[0m\u001b[0m\n\u001b[0m\u001b[1;32m      4\u001b[0m     \u001b[0;32mbreak\u001b[0m\u001b[0;34m\u001b[0m\u001b[0;34m\u001b[0m\u001b[0m\n",
      "\u001b[0;32m<ipython-input-8-45b63f9c3c5b>\u001b[0m in \u001b[0;36mpick_pivot\u001b[0;34m(l)\u001b[0m\n\u001b[1;32m     34\u001b[0m     \u001b[0;31m# Мы передаём нашу текущую функцию pick_pivot в качестве создателя pivot алгоритму\u001b[0m\u001b[0;34m\u001b[0m\u001b[0;34m\u001b[0m\u001b[0;34m\u001b[0m\u001b[0m\n\u001b[1;32m     35\u001b[0m     \u001b[0;31m# quickselect. O(n)\u001b[0m\u001b[0;34m\u001b[0m\u001b[0;34m\u001b[0m\u001b[0;34m\u001b[0m\u001b[0m\n\u001b[0;32m---> 36\u001b[0;31m     \u001b[0mmedian_of_medians\u001b[0m \u001b[0;34m=\u001b[0m \u001b[0mquickselect_median\u001b[0m\u001b[0;34m(\u001b[0m\u001b[0mmedians\u001b[0m\u001b[0;34m,\u001b[0m \u001b[0mpick_pivot\u001b[0m\u001b[0;34m)\u001b[0m\u001b[0;34m\u001b[0m\u001b[0;34m\u001b[0m\u001b[0m\n\u001b[0m\u001b[1;32m     37\u001b[0m     \u001b[0;32mreturn\u001b[0m \u001b[0mmedian_of_medians\u001b[0m\u001b[0;34m\u001b[0m\u001b[0;34m\u001b[0m\u001b[0m\n\u001b[1;32m     38\u001b[0m \u001b[0;34m\u001b[0m\u001b[0m\n",
      "\u001b[0;32m<ipython-input-7-3208e5ad434b>\u001b[0m in \u001b[0;36mquickselect_median\u001b[0;34m(l, pivot_fn)\u001b[0m\n\u001b[1;32m      3\u001b[0m         \u001b[0;32mreturn\u001b[0m \u001b[0mquickselect\u001b[0m\u001b[0;34m(\u001b[0m\u001b[0ml\u001b[0m\u001b[0;34m,\u001b[0m \u001b[0mlen\u001b[0m\u001b[0;34m(\u001b[0m\u001b[0ml\u001b[0m\u001b[0;34m)\u001b[0m \u001b[0;34m/\u001b[0m \u001b[0;36m2\u001b[0m\u001b[0;34m,\u001b[0m \u001b[0mpivot_fn\u001b[0m\u001b[0;34m)\u001b[0m\u001b[0;34m\u001b[0m\u001b[0;34m\u001b[0m\u001b[0m\n\u001b[1;32m      4\u001b[0m     \u001b[0;32melse\u001b[0m\u001b[0;34m:\u001b[0m\u001b[0;34m\u001b[0m\u001b[0;34m\u001b[0m\u001b[0m\n\u001b[0;32m----> 5\u001b[0;31m         return 0.5 * (quickselect(l, len(l) / 2 - 1, pivot_fn) +\n\u001b[0m\u001b[1;32m      6\u001b[0m                       quickselect(l, len(l) / 2, pivot_fn))\n",
      "\u001b[0;32m<ipython-input-6-58183f7b947e>\u001b[0m in \u001b[0;36mquickselect\u001b[0;34m(l, k, pivot_fn)\u001b[0m\n\u001b[1;32m     12\u001b[0m         \u001b[0;32mreturn\u001b[0m \u001b[0ml\u001b[0m\u001b[0;34m[\u001b[0m\u001b[0;36m0\u001b[0m\u001b[0;34m]\u001b[0m\u001b[0;34m\u001b[0m\u001b[0;34m\u001b[0m\u001b[0m\n\u001b[1;32m     13\u001b[0m \u001b[0;34m\u001b[0m\u001b[0m\n\u001b[0;32m---> 14\u001b[0;31m     \u001b[0mpivot\u001b[0m \u001b[0;34m=\u001b[0m \u001b[0mpivot_fn\u001b[0m\u001b[0;34m(\u001b[0m\u001b[0ml\u001b[0m\u001b[0;34m)\u001b[0m\u001b[0;34m\u001b[0m\u001b[0;34m\u001b[0m\u001b[0m\n\u001b[0m\u001b[1;32m     15\u001b[0m \u001b[0;34m\u001b[0m\u001b[0m\n\u001b[1;32m     16\u001b[0m     \u001b[0mlows\u001b[0m \u001b[0;34m=\u001b[0m \u001b[0;34m[\u001b[0m\u001b[0mel\u001b[0m \u001b[0;32mfor\u001b[0m \u001b[0mel\u001b[0m \u001b[0;32min\u001b[0m \u001b[0ml\u001b[0m \u001b[0;32mif\u001b[0m \u001b[0mel\u001b[0m \u001b[0;34m<\u001b[0m \u001b[0mpivot\u001b[0m\u001b[0;34m]\u001b[0m\u001b[0;34m\u001b[0m\u001b[0;34m\u001b[0m\u001b[0m\n",
      "\u001b[0;32m<ipython-input-8-45b63f9c3c5b>\u001b[0m in \u001b[0;36mpick_pivot\u001b[0;34m(l)\u001b[0m\n\u001b[1;32m     34\u001b[0m     \u001b[0;31m# Мы передаём нашу текущую функцию pick_pivot в качестве создателя pivot алгоритму\u001b[0m\u001b[0;34m\u001b[0m\u001b[0;34m\u001b[0m\u001b[0;34m\u001b[0m\u001b[0m\n\u001b[1;32m     35\u001b[0m     \u001b[0;31m# quickselect. O(n)\u001b[0m\u001b[0;34m\u001b[0m\u001b[0;34m\u001b[0m\u001b[0;34m\u001b[0m\u001b[0m\n\u001b[0;32m---> 36\u001b[0;31m     \u001b[0mmedian_of_medians\u001b[0m \u001b[0;34m=\u001b[0m \u001b[0mquickselect_median\u001b[0m\u001b[0;34m(\u001b[0m\u001b[0mmedians\u001b[0m\u001b[0;34m,\u001b[0m \u001b[0mpick_pivot\u001b[0m\u001b[0;34m)\u001b[0m\u001b[0;34m\u001b[0m\u001b[0;34m\u001b[0m\u001b[0m\n\u001b[0m\u001b[1;32m     37\u001b[0m     \u001b[0;32mreturn\u001b[0m \u001b[0mmedian_of_medians\u001b[0m\u001b[0;34m\u001b[0m\u001b[0;34m\u001b[0m\u001b[0m\n\u001b[1;32m     38\u001b[0m \u001b[0;34m\u001b[0m\u001b[0m\n",
      "\u001b[0;32m<ipython-input-7-3208e5ad434b>\u001b[0m in \u001b[0;36mquickselect_median\u001b[0;34m(l, pivot_fn)\u001b[0m\n\u001b[1;32m      3\u001b[0m         \u001b[0;32mreturn\u001b[0m \u001b[0mquickselect\u001b[0m\u001b[0;34m(\u001b[0m\u001b[0ml\u001b[0m\u001b[0;34m,\u001b[0m \u001b[0mlen\u001b[0m\u001b[0;34m(\u001b[0m\u001b[0ml\u001b[0m\u001b[0;34m)\u001b[0m \u001b[0;34m/\u001b[0m \u001b[0;36m2\u001b[0m\u001b[0;34m,\u001b[0m \u001b[0mpivot_fn\u001b[0m\u001b[0;34m)\u001b[0m\u001b[0;34m\u001b[0m\u001b[0;34m\u001b[0m\u001b[0m\n\u001b[1;32m      4\u001b[0m     \u001b[0;32melse\u001b[0m\u001b[0;34m:\u001b[0m\u001b[0;34m\u001b[0m\u001b[0;34m\u001b[0m\u001b[0m\n\u001b[0;32m----> 5\u001b[0;31m         return 0.5 * (quickselect(l, len(l) / 2 - 1, pivot_fn) +\n\u001b[0m\u001b[1;32m      6\u001b[0m                       quickselect(l, len(l) / 2, pivot_fn))\n",
      "\u001b[0;32m<ipython-input-6-58183f7b947e>\u001b[0m in \u001b[0;36mquickselect\u001b[0;34m(l, k, pivot_fn)\u001b[0m\n\u001b[1;32m     12\u001b[0m         \u001b[0;32mreturn\u001b[0m \u001b[0ml\u001b[0m\u001b[0;34m[\u001b[0m\u001b[0;36m0\u001b[0m\u001b[0;34m]\u001b[0m\u001b[0;34m\u001b[0m\u001b[0;34m\u001b[0m\u001b[0m\n\u001b[1;32m     13\u001b[0m \u001b[0;34m\u001b[0m\u001b[0m\n\u001b[0;32m---> 14\u001b[0;31m     \u001b[0mpivot\u001b[0m \u001b[0;34m=\u001b[0m \u001b[0mpivot_fn\u001b[0m\u001b[0;34m(\u001b[0m\u001b[0ml\u001b[0m\u001b[0;34m)\u001b[0m\u001b[0;34m\u001b[0m\u001b[0;34m\u001b[0m\u001b[0m\n\u001b[0m\u001b[1;32m     15\u001b[0m \u001b[0;34m\u001b[0m\u001b[0m\n\u001b[1;32m     16\u001b[0m     \u001b[0mlows\u001b[0m \u001b[0;34m=\u001b[0m \u001b[0;34m[\u001b[0m\u001b[0mel\u001b[0m \u001b[0;32mfor\u001b[0m \u001b[0mel\u001b[0m \u001b[0;32min\u001b[0m \u001b[0ml\u001b[0m \u001b[0;32mif\u001b[0m \u001b[0mel\u001b[0m \u001b[0;34m<\u001b[0m \u001b[0mpivot\u001b[0m\u001b[0;34m]\u001b[0m\u001b[0;34m\u001b[0m\u001b[0;34m\u001b[0m\u001b[0m\n",
      "\u001b[0;32m<ipython-input-8-45b63f9c3c5b>\u001b[0m in \u001b[0;36mpick_pivot\u001b[0;34m(l)\u001b[0m\n\u001b[1;32m      4\u001b[0m     \u001b[0mЭтот\u001b[0m \u001b[0mалгоритм\u001b[0m \u001b[0mвыполняется\u001b[0m \u001b[0mза\u001b[0m \u001b[0mвремя\u001b[0m \u001b[0mO\u001b[0m\u001b[0;34m(\u001b[0m\u001b[0mn\u001b[0m\u001b[0;34m)\u001b[0m\u001b[0;34m.\u001b[0m\u001b[0;34m\u001b[0m\u001b[0;34m\u001b[0m\u001b[0m\n\u001b[1;32m      5\u001b[0m     \"\"\"\n\u001b[0;32m----> 6\u001b[0;31m     \u001b[0;32massert\u001b[0m \u001b[0mlen\u001b[0m\u001b[0;34m(\u001b[0m\u001b[0ml\u001b[0m\u001b[0;34m)\u001b[0m \u001b[0;34m>\u001b[0m \u001b[0;36m0\u001b[0m\u001b[0;34m\u001b[0m\u001b[0;34m\u001b[0m\u001b[0m\n\u001b[0m\u001b[1;32m      7\u001b[0m \u001b[0;34m\u001b[0m\u001b[0m\n\u001b[1;32m      8\u001b[0m     \u001b[0;31m# Если элементов < 5, просто возвращаем медиану\u001b[0m\u001b[0;34m\u001b[0m\u001b[0;34m\u001b[0m\u001b[0;34m\u001b[0m\u001b[0m\n",
      "\u001b[0;31mAssertionError\u001b[0m: "
     ]
    }
   ],
   "source": [
    "for i in range(10, int(1e6), 1000):\n",
    "    tmp = np.random.randint(0, 10, i).tolist()\n",
    "    print(pick_pivot(tmp))\n",
    "    break"
   ]
  },
  {
   "cell_type": "code",
   "execution_count": null,
   "id": "f2163e35",
   "metadata": {},
   "outputs": [],
   "source": [
    "help(np.random)"
   ]
  },
  {
   "cell_type": "code",
   "execution_count": null,
   "id": "89e686ad",
   "metadata": {},
   "outputs": [],
   "source": []
  },
  {
   "cell_type": "code",
   "execution_count": null,
   "id": "c0c78967",
   "metadata": {},
   "outputs": [],
   "source": []
  }
 ],
 "metadata": {
  "kernelspec": {
   "display_name": "Python 3",
   "language": "python",
   "name": "python3"
  },
  "language_info": {
   "codemirror_mode": {
    "name": "ipython",
    "version": 3
   },
   "file_extension": ".py",
   "mimetype": "text/x-python",
   "name": "python",
   "nbconvert_exporter": "python",
   "pygments_lexer": "ipython3",
   "version": "3.8.5"
  }
 },
 "nbformat": 4,
 "nbformat_minor": 5
}
