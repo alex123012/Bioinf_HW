{
 "cells": [
  {
   "cell_type": "code",
   "execution_count": null,
   "metadata": {},
   "outputs": [],
   "source": [
    "from scipy.stats import poisson\n",
    "import seaborn as sns\n",
    "import pandas as pd\n",
    "import matplotlib.pyplot as plt"
   ]
  },
  {
   "cell_type": "markdown",
   "metadata": {},
   "source": [
    "# 1"
   ]
  },
  {
   "cell_type": "markdown",
   "metadata": {},
   "source": [
    "Сортируем по возрастанию, минимальное и максимальное значение соответственно а и b"
   ]
  },
  {
   "cell_type": "markdown",
   "metadata": {},
   "source": [
    "# 2 "
   ]
  },
  {
   "cell_type": "code",
   "execution_count": null,
   "metadata": {},
   "outputs": [],
   "source": [
    "n = 17\n",
    "rv = poisson(n)"
   ]
  },
  {
   "cell_type": "code",
   "execution_count": null,
   "metadata": {},
   "outputs": [],
   "source": [
    "df = pd.DataFrame({}, columns=['mean error', 'var error'])\n",
    "for i in range(15):\n",
    "    sample = rv.rvs(size=100)\n",
    "    df = df.append({'mean error': abs(sample.mean() - n),\n",
    "                    'var error':abs(sample.std()**2 - n)},\n",
    "                   ignore_index=True)"
   ]
  },
  {
   "cell_type": "code",
   "execution_count": null,
   "metadata": {
    "scrolled": false
   },
   "outputs": [],
   "source": [
    "df"
   ]
  },
  {
   "cell_type": "code",
   "execution_count": null,
   "metadata": {},
   "outputs": [],
   "source": [
    "for i, j in df.T.iterrows():\n",
    "    print(i, '=', j.mean())"
   ]
  },
  {
   "cell_type": "markdown",
   "metadata": {},
   "source": [
    "!wget https://raw.githubusercontent.com/s-a-nersisyan/HSE_bioinformatics_2021/master/seminar11/breast_cancer_1000_genes.tsv\n",
    "\n",
    "!wget https://raw.githubusercontent.com/s-a-nersisyan/HSE_bioinformatics_2021/master/seminar11/breast_cancer_key_genes.tsv"
   ]
  },
  {
   "cell_type": "code",
   "execution_count": null,
   "metadata": {},
   "outputs": [],
   "source": [
    "df1000 = pd.read_csv('breast_cancer_1000_genes.tsv', sep='\\t', index_col=0)\n",
    "df_key = pd.read_csv('breast_cancer_key_genes.tsv', sep='\\t', index_col=0)"
   ]
  },
  {
   "cell_type": "markdown",
   "metadata": {},
   "source": [
    "# 3 "
   ]
  },
  {
   "cell_type": "markdown",
   "metadata": {},
   "source": [
    "$\\theta$ = mean(Xn)/n (по определению $\\theta$ Bin(m, $\\theta$) $\\theta$ = E(X)/n)\n",
    "\n",
    "m = max(Xn) (Самый простой вариант)\n"
   ]
  },
  {
   "cell_type": "markdown",
   "metadata": {},
   "source": [
    "# 4 "
   ]
  },
  {
   "cell_type": "code",
   "execution_count": null,
   "metadata": {
    "scrolled": true
   },
   "outputs": [],
   "source": [
    "df1000.head()"
   ]
  },
  {
   "cell_type": "code",
   "execution_count": null,
   "metadata": {},
   "outputs": [],
   "source": [
    "print(plt.style.available)"
   ]
  },
  {
   "cell_type": "code",
   "execution_count": null,
   "metadata": {
    "scrolled": false
   },
   "outputs": [],
   "source": [
    "df = pd.DataFrame()\n",
    "df['Difference between maximum and minimum'] = df1000.max(axis=1) - df1000.min(axis=1)\n",
    "df['Variance'] = df1000.var(axis=1)\n",
    "df['Interquartile range'] = df1000.quantile(.75, axis=1) - df1000.quantile(.25, axis=1) \n",
    "\n",
    "palette = 'mako'\n",
    "\n",
    "plt.style.use('seaborn-poster')\n",
    "fig, ax = plt.subplots(3, 2, figsize=(25, 20))\n",
    "axes = [(0, 0), (1, 0), (2, 0), (0, 1), (1, 1), (2, 1)]\n",
    "tops = {}\n",
    "\n",
    "for i, j in zip(df.columns, axes):\n",
    "    tmp = df.sort_values(i).iloc[:10].index\n",
    "    for k in tmp:\n",
    "        tops[k] = tops.get(k, 0) + 1\n",
    "    sns.boxplot(data=df1000.loc[tmp].T, ax=ax[j], palette=palette)\n",
    "    \n",
    "    ax[j].set_title(i)\n",
    "    ax[j].set_xlabel('Genes')\n",
    "    ax[j].set_ylabel('Expression')\n",
    "\n",
    "tops_labels = sorted(tops, key=lambda x: tops[x], reverse=True)\n",
    "tops_values = [tops[i] for i in tops_labels]\n",
    "\n",
    "sns.barplot(x=tops_labels, y=tops_values, ax=ax[axes[-3]], alpha=.8, palette=palette)\n",
    "ax[axes[-3]].set_title('The number of occurrences of genes in different sample metrics')\n",
    "ax[axes[-3]].set_yticks([i for i in range(1, 4)])\n",
    "ax[axes[-3]].set_xticks(ax[axes[-3]].get_xticks())\n",
    "ax[axes[-3]].set_xticklabels(ax[axes[-3]].get_xticklabels(), rotation=45)\n",
    "ax[axes[-3]].set_xlabel('Genes')\n",
    "ax[axes[-3]].set_ylabel('Number of occurances')\n",
    "\n",
    "tmp = df1000.loc[tops_labels[0:5]]\n",
    "sns.kdeplot(data=tmp.T, ax=ax[axes[-2]], fill=True, common_norm=True, palette=palette)\n",
    "ax[axes[-2]].set_title('Kernel density estimation plot of most \"stable\" genes')\n",
    "ax[axes[-2]].set_xlabel('Expression')\n",
    "ax[axes[-2]].set_ylabel(' Normalized density')\n",
    "\n",
    "tmp = tmp.T.melt(var_name='Gene', value_name='Expression')\n",
    "sns.histplot(data=tmp, x='Expression', hue='Gene',\n",
    "             binrange=(tmp.Expression.min(), tmp.Expression.max()), bins=20,\n",
    "             stat='density', palette=palette, ax=ax[axes[-1]])\n",
    "ax[axes[-1]].set_title('Expression histogram of most \"stable\" genes')\n",
    "ax[axes[-1]].set_xlabel(ax[axes[-1]].get_xlabel())\n",
    "ax[axes[-1]].set_ylabel(ax[axes[-1]].get_ylabel())\n",
    "\n",
    "plt.tight_layout()\n",
    "plt.savefig('boxplots_1000', facecolor='white')"
   ]
  },
  {
   "cell_type": "markdown",
   "metadata": {},
   "source": [
    "# 5 "
   ]
  },
  {
   "cell_type": "code",
   "execution_count": null,
   "metadata": {
    "scrolled": true
   },
   "outputs": [],
   "source": [
    "df_key.head()"
   ]
  },
  {
   "cell_type": "code",
   "execution_count": null,
   "metadata": {},
   "outputs": [],
   "source": [
    "fig = plt.figure(figsize=(15, 20))\n",
    "ax1 = fig.add_subplot(2, 1, 1)\n",
    "ax2 = fig.add_subplot(2, 2, 3)\n",
    "ax3 = fig.add_subplot(2, 2, 4)\n",
    "\n",
    "sns.kdeplot(data=df_key, x='PGR', y='ESR1', fill=True,\n",
    "            thresh=0, levels=3000, cmap=\"mako\", ax=ax1)\n",
    "\n",
    "df = df_key[['PGR', 'ESR1']]\n",
    "df.columns = ['PGR expression', 'ESR1 expression']\n",
    "\n",
    "sns.kdeplot(data=df, palette='mako',\n",
    "            fill=True, ax=ax2)\n",
    "\n",
    "sns.histplot(data=df, binrange=(df.min().min(), df.max().max()),\n",
    "             bins=100, stat='density', palette='mako', ax=ax3)\n",
    "plt.tight_layout()\n",
    "fig.savefig('kdeplots', facecolor='white')"
   ]
  }
 ],
 "metadata": {
  "kernelspec": {
   "display_name": "Python 3",
   "language": "python",
   "name": "python3"
  },
  "language_info": {
   "codemirror_mode": {
    "name": "ipython",
    "version": 3
   },
   "file_extension": ".py",
   "mimetype": "text/x-python",
   "name": "python",
   "nbconvert_exporter": "python",
   "pygments_lexer": "ipython3",
   "version": "3.8.5"
  }
 },
 "nbformat": 4,
 "nbformat_minor": 4
}
