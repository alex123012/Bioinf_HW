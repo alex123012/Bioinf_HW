{
 "cells": [
  {
   "cell_type": "code",
   "execution_count": 1,
   "id": "4816235c",
   "metadata": {},
   "outputs": [],
   "source": [
    "import pandas as pd\n",
    "import numpy as np\n",
    "from sklearn.svm import LinearSVC\n",
    "from sklearn.metrics import confusion_matrix, plot_roc_curve\n",
    "from sklearn.metrics import make_scorer, balanced_accuracy_score, classification_report\n",
    "from sklearn.model_selection import RepeatedStratifiedKFold, train_test_split, GridSearchCV\n",
    "from sklearn.ensemble import RandomForestClassifier\n",
    "from IPython.display import Image\n",
    "import matplotlib.pyplot as plt\n",
    "from scipy.stats import ttest_ind"
   ]
  },
  {
   "cell_type": "code",
   "execution_count": 2,
   "id": "f6aa2dcc",
   "metadata": {},
   "outputs": [],
   "source": [
    "def print_metrics(y_test, y_pred, model, X_test):\n",
    "    matrix = confusion_matrix(y_test, y_pred)\n",
    "\n",
    "    tn = matrix[0, 0]\n",
    "    tp = matrix[1, 1]\n",
    "    fn = matrix[1, 0]\n",
    "    fp = matrix[0, 1]\n",
    "\n",
    "    tpr = tp / (tp + fn)\n",
    "    tnr = tn / (tn + fp)\n",
    "\n",
    "    print('accuracy =', balanced_accuracy_score(y_test, y_pred),\n",
    "          '\\nTPR =', tpr,\n",
    "          '\\nTNR =', tnr, '\\n')\n",
    "\n",
    "    print(classification_report(y_test, y_pred))\n",
    "\n",
    "    plot_roc_curve(model, X_test, y_test)\n",
    "    plt.plot(1 - tpr, tnr, \"x\", c=\"red\")\n",
    "    plt.show()"
   ]
  },
  {
   "cell_type": "markdown",
   "id": "2674fefd",
   "metadata": {},
   "source": [
    "# 1 "
   ]
  },
  {
   "cell_type": "markdown",
   "id": "434f8a60",
   "metadata": {},
   "source": [
    "G = 2p1p2 = 2p1(1 - p1)  \n",
    "\n",
    "G' = -2p1 + 2 - 2p1 = 2 - 4p1  \n",
    "\n",
    "4p1 = 2  \n",
    "\n",
    "p1 = 0.5 => p2 = 1 - p1 = 0.5  \n",
    "\n",
    "p1 = 0.5, p2 = 0.5  "
   ]
  },
  {
   "cell_type": "markdown",
   "id": "c7092c74",
   "metadata": {},
   "source": [
    "# 2 "
   ]
  },
  {
   "cell_type": "markdown",
   "id": "ac8438ca",
   "metadata": {},
   "source": [
    "высота от log2(N) до N"
   ]
  },
  {
   "cell_type": "markdown",
   "id": "629f2dad",
   "metadata": {},
   "source": [
    "# 3 "
   ]
  },
  {
   "cell_type": "code",
   "execution_count": 3,
   "id": "97450120",
   "metadata": {},
   "outputs": [],
   "source": [
    "path = 'https://raw.githubusercontent.com/s-a-nersisyan/HSE_bioinformatics_2021/master/seminar17/BRCA_pam50.tsv'\n",
    "data = pd.read_csv(path, sep='\\t', index_col=0)\n",
    "X = data.iloc[:, :-1].to_numpy()\n",
    "y = data[\"Subtype\"].to_numpy()\n",
    "X_train, X_test, y_train, y_test = train_test_split(X, y, \n",
    "                                  stratify=y, test_size=0.2, random_state=13)"
   ]
  },
  {
   "cell_type": "code",
   "execution_count": 4,
   "id": "0321534f",
   "metadata": {},
   "outputs": [
    {
     "name": "stdout",
     "output_type": "stream",
     "text": [
      "{'class_weight': 'balanced', 'max_depth': 5, 'n_estimators': 100, 'random_state': 13}\n"
     ]
    },
    {
     "data": {
      "text/plain": [
       "0.967"
      ]
     },
     "execution_count": 4,
     "metadata": {},
     "output_type": "execute_result"
    }
   ],
   "source": [
    "model = RandomForestClassifier()\n",
    "params = {'n_estimators': [10, 50, 100],\n",
    "          'max_depth': [5, 9],\n",
    "          'class_weight': [\"balanced\"],\n",
    "          'random_state': [13]}\n",
    "grid = GridSearchCV(model, params,\n",
    "                   scoring=make_scorer(balanced_accuracy_score), \n",
    "                   n_jobs=-1,\n",
    "                   cv=RepeatedStratifiedKFold(n_repeats=10))\n",
    "grid.fit(X, y)\n",
    "print(grid.best_params_)\n",
    "y_pred = grid.predict(X_test)\n",
    "round(balanced_accuracy_score(y_pred, y_test), 3)"
   ]
  },
  {
   "cell_type": "markdown",
   "id": "fcf967c9",
   "metadata": {},
   "source": [
    "# 4 "
   ]
  },
  {
   "cell_type": "code",
   "execution_count": 5,
   "id": "37b30685",
   "metadata": {},
   "outputs": [
    {
     "data": {
      "text/html": [
       "<div>\n",
       "<style scoped>\n",
       "    .dataframe tbody tr th:only-of-type {\n",
       "        vertical-align: middle;\n",
       "    }\n",
       "\n",
       "    .dataframe tbody tr th {\n",
       "        vertical-align: top;\n",
       "    }\n",
       "\n",
       "    .dataframe thead th {\n",
       "        text-align: right;\n",
       "    }\n",
       "</style>\n",
       "<table border=\"1\" class=\"dataframe\">\n",
       "  <thead>\n",
       "    <tr style=\"text-align: right;\">\n",
       "      <th></th>\n",
       "      <th>Class</th>\n",
       "      <th>Dataset</th>\n",
       "      <th>Dataset type</th>\n",
       "    </tr>\n",
       "  </thead>\n",
       "  <tbody>\n",
       "    <tr>\n",
       "      <th>GSM107072</th>\n",
       "      <td>1</td>\n",
       "      <td>GSE1456</td>\n",
       "      <td>Validation</td>\n",
       "    </tr>\n",
       "    <tr>\n",
       "      <th>GSM107073</th>\n",
       "      <td>0</td>\n",
       "      <td>GSE1456</td>\n",
       "      <td>Validation</td>\n",
       "    </tr>\n",
       "    <tr>\n",
       "      <th>GSM107074</th>\n",
       "      <td>0</td>\n",
       "      <td>GSE1456</td>\n",
       "      <td>Validation</td>\n",
       "    </tr>\n",
       "    <tr>\n",
       "      <th>GSM107075</th>\n",
       "      <td>0</td>\n",
       "      <td>GSE1456</td>\n",
       "      <td>Validation</td>\n",
       "    </tr>\n",
       "    <tr>\n",
       "      <th>GSM107076</th>\n",
       "      <td>0</td>\n",
       "      <td>GSE1456</td>\n",
       "      <td>Validation</td>\n",
       "    </tr>\n",
       "  </tbody>\n",
       "</table>\n",
       "</div>"
      ],
      "text/plain": [
       "           Class  Dataset Dataset type\n",
       "GSM107072      1  GSE1456   Validation\n",
       "GSM107073      0  GSE1456   Validation\n",
       "GSM107074      0  GSE1456   Validation\n",
       "GSM107075      0  GSE1456   Validation\n",
       "GSM107076      0  GSE1456   Validation"
      ]
     },
     "execution_count": 5,
     "metadata": {},
     "output_type": "execute_result"
    }
   ],
   "source": [
    "ann = pd.read_pickle('bc_ann.pkl')\n",
    "ann.head()"
   ]
  },
  {
   "cell_type": "code",
   "execution_count": 6,
   "id": "81342d65",
   "metadata": {},
   "outputs": [
    {
     "data": {
      "text/html": [
       "<div>\n",
       "<style scoped>\n",
       "    .dataframe tbody tr th:only-of-type {\n",
       "        vertical-align: middle;\n",
       "    }\n",
       "\n",
       "    .dataframe tbody tr th {\n",
       "        vertical-align: top;\n",
       "    }\n",
       "\n",
       "    .dataframe thead th {\n",
       "        text-align: right;\n",
       "    }\n",
       "</style>\n",
       "<table border=\"1\" class=\"dataframe\">\n",
       "  <thead>\n",
       "    <tr style=\"text-align: right;\">\n",
       "      <th></th>\n",
       "      <th>A1CF</th>\n",
       "      <th>A2M</th>\n",
       "      <th>AACS</th>\n",
       "      <th>AAGAB</th>\n",
       "      <th>AAK1</th>\n",
       "      <th>AAMDC</th>\n",
       "      <th>AAMP</th>\n",
       "      <th>AARS1</th>\n",
       "      <th>AASDHPPT</th>\n",
       "      <th>AATF</th>\n",
       "      <th>...</th>\n",
       "      <th>ZRSR2</th>\n",
       "      <th>ZSCAN18</th>\n",
       "      <th>ZSCAN31</th>\n",
       "      <th>ZSCAN32</th>\n",
       "      <th>ZSWIM8</th>\n",
       "      <th>ZW10</th>\n",
       "      <th>ZWILCH</th>\n",
       "      <th>ZWINT</th>\n",
       "      <th>ZYX</th>\n",
       "      <th>ZZEF1</th>\n",
       "    </tr>\n",
       "  </thead>\n",
       "  <tbody>\n",
       "    <tr>\n",
       "      <th>GSM107072</th>\n",
       "      <td>6.171391</td>\n",
       "      <td>10.848897</td>\n",
       "      <td>7.777530</td>\n",
       "      <td>7.606607</td>\n",
       "      <td>6.394179</td>\n",
       "      <td>7.144505</td>\n",
       "      <td>8.254429</td>\n",
       "      <td>9.353714</td>\n",
       "      <td>8.054501</td>\n",
       "      <td>8.665148</td>\n",
       "      <td>...</td>\n",
       "      <td>7.822262</td>\n",
       "      <td>6.745400</td>\n",
       "      <td>5.613649</td>\n",
       "      <td>6.914217</td>\n",
       "      <td>7.710242</td>\n",
       "      <td>7.356916</td>\n",
       "      <td>6.417884</td>\n",
       "      <td>7.614747</td>\n",
       "      <td>9.248246</td>\n",
       "      <td>7.155962</td>\n",
       "    </tr>\n",
       "    <tr>\n",
       "      <th>GSM107073</th>\n",
       "      <td>6.580377</td>\n",
       "      <td>9.739404</td>\n",
       "      <td>8.172784</td>\n",
       "      <td>7.859401</td>\n",
       "      <td>6.304567</td>\n",
       "      <td>7.394661</td>\n",
       "      <td>8.525408</td>\n",
       "      <td>9.741925</td>\n",
       "      <td>8.560564</td>\n",
       "      <td>8.856241</td>\n",
       "      <td>...</td>\n",
       "      <td>7.924955</td>\n",
       "      <td>6.499876</td>\n",
       "      <td>6.353428</td>\n",
       "      <td>7.721992</td>\n",
       "      <td>7.909205</td>\n",
       "      <td>7.808439</td>\n",
       "      <td>7.170811</td>\n",
       "      <td>8.820814</td>\n",
       "      <td>9.134095</td>\n",
       "      <td>6.715871</td>\n",
       "    </tr>\n",
       "    <tr>\n",
       "      <th>GSM107074</th>\n",
       "      <td>6.941675</td>\n",
       "      <td>9.989207</td>\n",
       "      <td>8.175175</td>\n",
       "      <td>7.485449</td>\n",
       "      <td>6.215530</td>\n",
       "      <td>6.989786</td>\n",
       "      <td>8.169714</td>\n",
       "      <td>8.689155</td>\n",
       "      <td>8.053919</td>\n",
       "      <td>8.101290</td>\n",
       "      <td>...</td>\n",
       "      <td>7.877878</td>\n",
       "      <td>8.917324</td>\n",
       "      <td>6.192780</td>\n",
       "      <td>7.558263</td>\n",
       "      <td>8.452266</td>\n",
       "      <td>7.750089</td>\n",
       "      <td>5.951289</td>\n",
       "      <td>8.746304</td>\n",
       "      <td>9.316072</td>\n",
       "      <td>7.228517</td>\n",
       "    </tr>\n",
       "    <tr>\n",
       "      <th>GSM107075</th>\n",
       "      <td>6.523469</td>\n",
       "      <td>11.243880</td>\n",
       "      <td>7.286647</td>\n",
       "      <td>7.695029</td>\n",
       "      <td>7.172579</td>\n",
       "      <td>7.186385</td>\n",
       "      <td>8.209839</td>\n",
       "      <td>9.189049</td>\n",
       "      <td>7.943373</td>\n",
       "      <td>8.116367</td>\n",
       "      <td>...</td>\n",
       "      <td>7.544273</td>\n",
       "      <td>8.758563</td>\n",
       "      <td>5.863965</td>\n",
       "      <td>7.308410</td>\n",
       "      <td>8.484508</td>\n",
       "      <td>7.453132</td>\n",
       "      <td>6.192658</td>\n",
       "      <td>7.719506</td>\n",
       "      <td>9.237652</td>\n",
       "      <td>7.495225</td>\n",
       "    </tr>\n",
       "    <tr>\n",
       "      <th>GSM107076</th>\n",
       "      <td>6.592214</td>\n",
       "      <td>11.302001</td>\n",
       "      <td>7.628476</td>\n",
       "      <td>6.610815</td>\n",
       "      <td>6.417622</td>\n",
       "      <td>7.559106</td>\n",
       "      <td>8.216323</td>\n",
       "      <td>9.157618</td>\n",
       "      <td>7.924746</td>\n",
       "      <td>8.321233</td>\n",
       "      <td>...</td>\n",
       "      <td>7.599313</td>\n",
       "      <td>8.295689</td>\n",
       "      <td>4.967507</td>\n",
       "      <td>6.993425</td>\n",
       "      <td>8.473997</td>\n",
       "      <td>7.606603</td>\n",
       "      <td>6.096380</td>\n",
       "      <td>8.469398</td>\n",
       "      <td>9.456770</td>\n",
       "      <td>6.611369</td>\n",
       "    </tr>\n",
       "  </tbody>\n",
       "</table>\n",
       "<p>5 rows × 7762 columns</p>\n",
       "</div>"
      ],
      "text/plain": [
       "               A1CF        A2M      AACS     AAGAB      AAK1     AAMDC  \\\n",
       "GSM107072  6.171391  10.848897  7.777530  7.606607  6.394179  7.144505   \n",
       "GSM107073  6.580377   9.739404  8.172784  7.859401  6.304567  7.394661   \n",
       "GSM107074  6.941675   9.989207  8.175175  7.485449  6.215530  6.989786   \n",
       "GSM107075  6.523469  11.243880  7.286647  7.695029  7.172579  7.186385   \n",
       "GSM107076  6.592214  11.302001  7.628476  6.610815  6.417622  7.559106   \n",
       "\n",
       "               AAMP     AARS1  AASDHPPT      AATF  ...     ZRSR2   ZSCAN18  \\\n",
       "GSM107072  8.254429  9.353714  8.054501  8.665148  ...  7.822262  6.745400   \n",
       "GSM107073  8.525408  9.741925  8.560564  8.856241  ...  7.924955  6.499876   \n",
       "GSM107074  8.169714  8.689155  8.053919  8.101290  ...  7.877878  8.917324   \n",
       "GSM107075  8.209839  9.189049  7.943373  8.116367  ...  7.544273  8.758563   \n",
       "GSM107076  8.216323  9.157618  7.924746  8.321233  ...  7.599313  8.295689   \n",
       "\n",
       "            ZSCAN31   ZSCAN32    ZSWIM8      ZW10    ZWILCH     ZWINT  \\\n",
       "GSM107072  5.613649  6.914217  7.710242  7.356916  6.417884  7.614747   \n",
       "GSM107073  6.353428  7.721992  7.909205  7.808439  7.170811  8.820814   \n",
       "GSM107074  6.192780  7.558263  8.452266  7.750089  5.951289  8.746304   \n",
       "GSM107075  5.863965  7.308410  8.484508  7.453132  6.192658  7.719506   \n",
       "GSM107076  4.967507  6.993425  8.473997  7.606603  6.096380  8.469398   \n",
       "\n",
       "                ZYX     ZZEF1  \n",
       "GSM107072  9.248246  7.155962  \n",
       "GSM107073  9.134095  6.715871  \n",
       "GSM107074  9.316072  7.228517  \n",
       "GSM107075  9.237652  7.495225  \n",
       "GSM107076  9.456770  6.611369  \n",
       "\n",
       "[5 rows x 7762 columns]"
      ]
     },
     "execution_count": 6,
     "metadata": {},
     "output_type": "execute_result"
    }
   ],
   "source": [
    "data = pd.read_pickle('bc_data.pkl')\n",
    "data.head()"
   ]
  },
  {
   "cell_type": "code",
   "execution_count": 7,
   "id": "8e41b301",
   "metadata": {},
   "outputs": [
    {
     "name": "stdout",
     "output_type": "stream",
     "text": [
      "['TRIP13', 'UBE2C', 'ZWINT', 'EPN3', 'KIF4A', 'ECHDC2', 'MTFR1', 'CX3CR1', 'SLC7A5', 'ABAT', 'CFAP69']\n"
     ]
    }
   ],
   "source": [
    "genes = 'TRIP13;UBE2C;ZWINT;EPN3;KIF4A;ECHDC2;MTFR1;CX3CR1;SLC7A5;ABAT;CFAP69'.split(';')\n",
    "print(genes)"
   ]
  },
  {
   "cell_type": "code",
   "execution_count": 8,
   "id": "630ee6e4",
   "metadata": {},
   "outputs": [],
   "source": [
    "train_idx = ann.loc[ann[\"Dataset type\"] == \"Training\"].index\n",
    "test_idx = ann.loc[ann[\"Dataset type\"] == \"Validation\"].index\n",
    "\n",
    "X_train = data.loc[train_idx].to_numpy()\n",
    "y_train = ann.loc[train_idx, \"Class\"].to_numpy()\n",
    "X_test = data.loc[test_idx].to_numpy()\n",
    "y_test = ann.loc[test_idx, \"Class\"].to_numpy()"
   ]
  },
  {
   "cell_type": "code",
   "execution_count": 9,
   "id": "59325621",
   "metadata": {},
   "outputs": [
    {
     "name": "stdout",
     "output_type": "stream",
     "text": [
      "accuracy = 0.611111111111111 \n",
      "TPR = 0.4583333333333333 \n",
      "TNR = 0.7638888888888888 \n",
      "\n",
      "              precision    recall  f1-score   support\n",
      "\n",
      "           0       0.81      0.76      0.79        72\n",
      "           1       0.39      0.46      0.42        24\n",
      "\n",
      "    accuracy                           0.69        96\n",
      "   macro avg       0.60      0.61      0.60        96\n",
      "weighted avg       0.70      0.69      0.70        96\n",
      "\n"
     ]
    },
    {
     "data": {
      "image/png": "[encoded data removed]",
      "text/plain": [
       "<Figure size 432x288 with 1 Axes>"
      ]
     },
     "metadata": {
      "needs_background": "light"
     },
     "output_type": "display_data"
    }
   ],
   "source": [
    "model = LinearSVC(random_state=17, C=3.5, max_iter=1e9)\n",
    "model.fit(X_train, y_train)\n",
    "y_pred = model.predict(X_test)\n",
    "print_metrics(y_test, y_pred, model, X_test)"
   ]
  },
  {
   "cell_type": "code",
   "execution_count": 10,
   "id": "26cc3093",
   "metadata": {},
   "outputs": [
    {
     "name": "stdout",
     "output_type": "stream",
     "text": [
      "accuracy = 0.7569444444444444 \n",
      "TPR = 0.6666666666666666 \n",
      "TNR = 0.8472222222222222 \n",
      "\n",
      "              precision    recall  f1-score   support\n",
      "\n",
      "           0       0.88      0.85      0.87        72\n",
      "           1       0.59      0.67      0.63        24\n",
      "\n",
      "    accuracy                           0.80        96\n",
      "   macro avg       0.74      0.76      0.75        96\n",
      "weighted avg       0.81      0.80      0.81        96\n",
      "\n"
     ]
    },
    {
     "data": {
      "image/png": "[encoded data removed]",
      "text/plain": [
       "<Figure size 432x288 with 1 Axes>"
      ]
     },
     "metadata": {
      "needs_background": "light"
     },
     "output_type": "display_data"
    }
   ],
   "source": [
    "model = LinearSVC(random_state=17, C=3.5, max_iter=1e9)\n",
    "x_train = data.loc[train_idx, genes].to_numpy()\n",
    "x_test = data.loc[test_idx, genes].to_numpy()\n",
    "model.fit(x_train, y_train)\n",
    "y_pred = model.predict(x_test)\n",
    "print_metrics(y_test, y_pred, model, x_test)"
   ]
  },
  {
   "cell_type": "markdown",
   "id": "8808577e",
   "metadata": {},
   "source": [
    "# 5 "
   ]
  },
  {
   "cell_type": "code",
   "execution_count": 11,
   "id": "87bf73a0",
   "metadata": {},
   "outputs": [],
   "source": [
    "valid = data.loc[ann.loc[ann[\"Dataset type\"] == \"Validation\"].index]\n",
    "train = data.loc[ann.loc[ann[\"Dataset type\"] == \"Training\"].index]"
   ]
  },
  {
   "cell_type": "code",
   "execution_count": 12,
   "id": "92ddfc31",
   "metadata": {},
   "outputs": [
    {
     "name": "stdout",
     "output_type": "stream",
     "text": [
      "['ABCA1', 'ABCD3', 'ABHD2', 'ACADM', 'ACKR1', 'ACRV1', 'ACSBG2', 'ACTA2', 'ACTL8', 'ACTR3', 'ACVR1', 'ADA2', 'ADAM11', 'ADAM21', 'ADAM22', 'ADAM23', 'ADAMTS2', 'ADGRA2', 'ADGRE5', 'ADGRG3', 'ADH6', 'ADNP', 'ADNP2', 'ADORA3', 'ADRA2A', 'ADRB2', 'ADTRP', 'AFF2', 'AGAP1', 'AGPAT1', 'AGPAT2', 'AGPAT3', 'AGPAT5', 'AHCYL2', 'AHNAK', 'AHNAK2', 'AHR', 'AKAP12', 'AKAP13', 'AKIP1', 'AKIRIN1', 'AKR1B1', 'AKR7A2', 'AKT3', 'ALDH6A1', 'ALDOA', 'ALG12', 'ALMS1', 'ALOX5', 'ALOX5AP', 'AMHR2', 'AMPH', 'ANAPC13', 'ANGPTL2', 'ANKRD17', 'ANO10', 'ANP32A', 'ANXA5', 'ANXA8L1', 'AP1AR', 'AP1S2', 'APAF1', 'APBA1', 'APH1B', 'APLP2', 'APOBEC2', 'APOBEC3G', 'APOC4-APOC2', 'APOE', 'APOL1', 'APOL3', 'APOL5', 'APOL6', 'APOM', 'AQP1', 'AQP9', 'ARF4', 'ARF6', 'ARG2', 'ARHGAP25', 'ARHGDIB', 'ARHGEF2', 'ARL2BP', 'ARL4C', 'ARMC1', 'ARPC4-TTLL3', 'ARPIN', 'ARRB2', 'ARSA', 'ASAP3', 'ASCL3', 'ASF1A', 'ASH1L', 'ASXL2', 'ATF1', 'ATF7IP', 'ATF7IP2', 'ATG101', 'ATG3', 'ATG7', 'ATM', 'ATP10B', 'ATP1B1', 'ATP2B1', 'ATP5MC2', 'ATP6V0D1', 'ATP6V1A', 'ATP7A', 'ATXN7', 'AUNIP', 'AXL', 'B2M', 'B3GALT4', 'B3GNT2', 'B4GALNT1', 'BAMBI', 'BARD1', 'BASP1', 'BAZ2A', 'BBIP1', 'BCAT1', 'BCL10', 'BCL11A', 'BCL2L14', 'BCL7A', 'BEGAIN', 'BEST2', 'BEX3', 'BHLHE40', 'BHMT', 'BICC1', 'BIN1', 'BIN2', 'BMP5', 'BMP6', 'BMX', 'BNC2', 'BPIFA1', 'BSG', 'BSN', 'BTG1', 'BTG2', 'BTK', 'BTRC', 'BUB1', 'C11orf21', 'C11orf58', 'C18orf25', 'C1QA', 'C1QB', 'C1QBP', 'C1R', 'C1orf105', 'C1orf56', 'C2', 'C6orf15', 'C7', 'C9orf16', 'CA14', 'CA5B', 'CABIN1', 'CACFD1', 'CACNG2', 'CACNG4', 'CADM1', 'CADM3', 'CALCRL', 'CAMK1G', 'CAMK2A', 'CAMKK2', 'CAPNS1', 'CAPRIN1', 'CAPZA2', 'CAPZB', 'CASP6', 'CASP7', 'CASP8', 'CASR', 'CAVIN1', 'CBLB', 'CBX4', 'CCDC30', 'CCDC6', 'CCDC7', 'CCDC85B', 'CCDC86', 'CCDC9', 'CCL13', 'CCL15-CCL14', 'CCL16', 'CCL18', 'CCL2', 'CCL21', 'CCL8', 'CCN2', 'CCN4', 'CCN5', 'CCND2', 'CCNF', 'CCNG1', 'CCNJL', 'CCR1', 'CCR4', 'CD14', 'CD163', 'CD164', 'CD177', 'CD1A', 'CD1B', 'CD2', 'CD209', 'CD248', 'CD300A', 'CD33', 'CD37', 'CD3E', 'CD3G', 'CD4', 'CD40', 'CD48', 'CD5', 'CD53', 'CD6', 'CD74', 'CD80', 'CD81', 'CD82', 'CD83', 'CD84', 'CD86', 'CD8A', 'CD99', 'CD99.1', 'CD99.2', 'CD99.3', 'CD99.4', 'CD99.5', 'CD99.6', 'CD99.7', 'CD99.8', 'CD99.9', 'CD99.10', 'CD99.11', 'CD99.12', 'CD99.13', 'CD99.14', 'CD99.15', 'CDC14A', 'CDC16', 'CDC25C', 'CDC42', 'CDC42EP1', 'CDC42EP3', 'CDC42EP4', 'CDC73', 'CDCA8', 'CDH11', 'CDH17', 'CDH18', 'CDK19', 'CDK2AP1', 'CDK4', 'CDK9', 'CDKN1B', 'CDKN2A', 'CEBPB', 'CEBPD', 'CELF2', 'CENPB', 'CEP162', 'CEP68', 'CEP72', 'CEP85', 'CER1', 'CERS6', 'CES3', 'CETN1', 'CH25H', 'CHAC1', 'CHCHD3', 'CHD2', 'CHD3', 'CHD8', 'CHI3L2', 'CHIC2', 'CHN2', 'CHODL', 'CHPF', 'CHPT1', 'CHRM2', 'CHRM5', 'CHRNA3', 'CHRNE', 'CHST3', 'CHST5', 'CHST7', 'CIC', 'CIDEB', 'CIITA', 'CKAP2', 'CKLF-CMTM1', 'CLCA1', 'CLCN4', 'CLCN7', 'CLDN17', 'CLDN4', 'CLEC1A', 'CLEC7A', 'CLIC2', 'CLIP1', 'CLIP3', 'CLP1', 'CLSTN1', 'CLSTN2', 'CMTM6', 'CNDP2', 'CNIH1', 'CNN2', 'CNN3', 'CNNM3', 'CNR1', 'CNR2', 'CNTN2', 'CNTNAP1', 'CNTNAP2', 'COBLL1', 'COL14A1', 'COL1A1', 'COL1A2', 'COL3A1', 'COL6A2', 'COL6A3', 'COL8A2', 'COLEC12', 'COMT', 'COPG1', 'COPZ1', 'COPZ2', 'CORO1A', 'CORO1B', 'CORO2B', 'CORO7', 'COX10', 'COX6A1', 'COX8A', 'CPA3', 'CPA4', 'CPEB1', 'CPED1', 'CPNE7', 'CPVL', 'CRCP', 'CREB1', 'CREB3L2', 'CREBBP', 'CREBL2', 'CREG1', 'CRIP1', 'CRISP1', 'CRMP1', 'CRTAP', 'CRYBG3', 'CS', 'CSF1R', 'CSF2RB', 'CSK', 'CST8', 'CSTF2T', 'CTBS', 'CTF1', 'CTSD', 'CTSE', 'CTSK', 'CTSS', 'CTSW', 'CUTA', 'CWC25', 'CWF19L1', 'CX3CR1', 'CXCL12', 'CXCR1', 'CYB5R2', 'CYBA', 'CYBB', 'CYBRD1', 'CYP11B2', 'CYP1A2', 'CYP2C9', 'CYP3A4', 'CYP4A11', 'CYP4F12', 'CYTH4', 'DAAM2', 'DACH1', 'DAD1', 'DBN1', 'DCAF11', 'DCAF16', 'DCHS1', 'DCN', 'DCSTAMP', 'DCT', 'DCTPP1', 'DDOST', 'DDR2', 'DDX18', 'DEFB4B', 'DEK', 'DENND1C', 'DEPTOR', 'DESI1', 'DHRS9', 'DICER1', 'DIPK2B', 'DIXDC1', 'DLC1', 'DMWD', 'DMXL2', 'DNAH2', 'DNAH3', 'DNAH6', 'DNAJA2', 'DNAJA4', 'DNAJB14', 'DNAJC13', 'DNAJC15', 'DNAJC16', 'DND1', 'DOCK1', 'DOCK2', 'DOCK9', 'DOK5', 'DPM1', 'DPP4', 'DPP6', 'DPYD', 'DPYSL2', 'DR1', 'DRG1', 'DRG2', 'DRP2', 'DSE', 'DUSP10', 'DUSP3', 'DYNC1LI2', 'DZIP1', 'E2F4', 'ECE2', 'ECM2', 'EDAR', 'EDEM3', 'EDNRB', 'EEF1AKMT3', 'EEF1AKNMT', 'EFCAB14', 'EFCC1', 'EFNB3', 'EFR3B', 'EGFR', 'EGLN1', 'EGLN3', 'EHBP1L1', 'EHD4', 'EID1', 'EIF1AX', 'EIF1B', 'EIF2S3', 'EIF3F', 'EIF3G', 'EIF3K', 'EIF3L', 'EIF4B', 'EIF4E', 'EIF4G1', 'EIF4G3', 'EIF4H', 'ELAVL1', 'ELAVL3', 'ELF1', 'ELK1', 'ELK3', 'ELMO1', 'ELN', 'ELOVL5', 'EMD', 'EMILIN1', 'EMP1', 'EMP3', 'ENG', 'ENGASE', 'ENO1', 'EP300', 'EPB41L5', 'EPHB1', 'EPOR', 'EPS15', 'EPS15L1', 'EPS8L3', 'ERC1', 'ESD', 'ETNK2', 'ETV1', 'ETV6', 'EVI2A', 'EVX1', 'EXO1', 'EXPH5', 'F13A1', 'F2R', 'F2RL1', 'FAM184A', 'FAM3C', 'FAM53B', 'FAM89B', 'FAR2', 'FAXDC2', 'FBL', 'FBLN2', 'FBXO11', 'FBXO21', 'FCER1G', 'FCGR1B', 'FCGR2B', 'FCGR3A', 'FCGR3B', 'FCMR', 'FCN2', 'FEV', 'FGF16', 'FGL2', 'FIBP', 'FILIP1L', 'FLNA', 'FLOT2', 'FMO1', 'FMO4', 'FNDC3A', 'FOLR1', 'FOLR2', 'FOXJ1', 'FOXN3', 'FOXO3B', 'FOXRED2', 'FPR1', 'FPR3', 'FRAT1', 'FRAT2', 'FSCN1', 'FSCN3', 'FTH1', 'FTL', 'FTSJ1', 'FURIN', 'FUT3', 'FUZ', 'FXR2', 'FXYD1', 'FXYD2', 'FXYD5', 'FYN', 'G3BP1', 'G6PC2', 'GABARAPL1', 'GABRB2', 'GABRD', 'GABRR2', 'GAD2', 'GADD45A', 'GALR3', 'GAS1', 'GATAD1', 'GATAD2A', 'GATC', 'GATM', 'GBP1', 'GCLM', 'GDE1', 'GDPD2', 'GEMIN4', 'GFOD1', 'GFPT2', 'GGTLC1', 'GIMAP4', 'GIMAP5', 'GIPC1', 'GIT1', 'GJA1', 'GJA4', 'GJB4', 'GJD2', 'GLI1', 'GLIPR1', 'GLP1R', 'GLRA2', 'GLRX3', 'GLTP', 'GLUL', 'GMIP', 'GML', 'GNA14', 'GNAQ', 'GNB2', 'GNG10', 'GNG5', 'GNRHR', 'GOLGA2', 'GOLIM4', 'GOLPH3', 'GOLPH3L', 'GOSR1', 'GP1BA', 'GPA33', 'GPATCH4', 'GPI', 'GPNMB', 'GPR12', 'GPR137', 'GPR15', 'GPR153', 'GPR157', 'GPR19', 'GPR52', 'GPR78', 'GPRC5D', 'GPRIN2', 'GPSM3', 'GPX4', 'GRAMD1B', 'GRB2', 'GREB1L', 'GREM1', 'GRIN2A', 'GRK2', 'GRK5', 'GRM6', 'GRPR', 'GSDME', 'GSE1', 'GSK3B', 'GSN', 'GSPT1', 'GSR', 'GSTA1', 'GSTM4', 'GSTP1', 'GTDC1', 'GTF2A2', 'GTF2F1', 'GUCY1A1', 'GULP1', 'GYPB', 'GYPC', 'H1-10', 'H1-6', 'H2AC14', 'H2AX', 'H2BC10', 'H2BC12', 'H2BS1', 'H3-3A', 'H3-3B', 'H3C6', 'HABP2', 'HAO2', 'HAP1', 'HAUS5', 'HBA2', 'HBB', 'HBG2', 'HCFC1R1', 'HCLS1', 'HDAC7', 'HDGF', 'HDLBP', 'HECTD3', 'HECW1', 'HHLA1', 'HIF3A', 'HIGD2A', 'HLA-A', 'HLA-B', 'HLA-C', 'HLA-DMA', 'HLA-DMB', 'HLA-DOB', 'HLA-DPA1', 'HLA-DPB1', 'HLA-DRA', 'HLA-F', 'HLA-G', 'HLF', 'HMGA1', 'HMGB1', 'HMGXB3', 'HMOX1', 'HNF1B', 'HNRNPF', 'HNRNPR', 'HNRNPU', 'HNRNPUL1', 'HNRNPUL2', 'HOXC11', 'HOXC13', 'HOXD9', 'HPSE2', 'HRG', 'HRH1', 'HS2ST1', 'HS3ST2', 'HSD17B11', 'HSD17B14', 'HSF2BP', 'HSPA1B', 'HSPA9', 'HSPB2', 'HSPB6', 'HTATIP2', 'HTR1B', 'HTR3A', 'HTRA2', 'HYAL1', 'ICAM1', 'ID1', 'ID2', 'ID3', 'IDH1', 'IFFO1', 'IFI16', 'IFIT2', 'IFITM2', 'IFITM3', 'IFNA13', 'IFNA17', 'IFNA21', 'IFT122', 'IGF1', 'IGF1R', 'IGFBP6', 'IGFBP7', 'IGHMBP2', 'IGLL5', 'IKBKG', 'IKZF1', 'IL10RB', 'IL16', 'IL19', 'IL1RAPL2', 'IL1RL1', 'IL22', 'IL2RA', 'IL2RB', 'IL32', 'IL5RA', 'IL7R', 'IMPDH1', 'INA', 'ING1', 'ING3', 'INHBC', 'INPP5D', 'INTS6', 'IPO4', 'IPO9', 'IQCA1', 'IQCC', 'IRF2', 'IRF9', 'IRS1', 'ISLR', 'ITCH', 'ITGA5', 'ITGA6', 'ITGA8', 'ITGAM', 'ITGB1', 'ITGB3', 'ITM2B', 'ITM2C', 'ITPKB', 'ITSN1', 'IVL', 'JAK3', 'JAM2', 'JCHAIN', 'JUNB', 'JUND', 'KAT5', 'KAT7', 'KCNA1', 'KCNA5', 'KCNAB1', 'KCNAB2', 'KCNB2', 'KCNG1', 'KCNJ15', 'KCNJ2', 'KCNMB4', 'KCNQ3', 'KCTD12', 'KCTD20', 'KCTD3', 'KCTD5', 'KDELR2', 'KDM2A', 'KDM3B', 'KDM5A', 'KDM5C', 'KDM6A', 'KHSRP', 'KIF21B', 'KIF5A', 'KIF5B', 'KIR2DL1', 'KIR2DL3', 'KIR2DL4', 'KIR3DL1', 'KIR3DL3', 'KLF10', 'KLF11', 'KLF9', 'KLHL28', 'KLHL35', 'KLRB1', 'KLRD1', 'KLRK1', 'KMT5B', 'KPNA3', 'KRAS', 'KRT2', 'KRT38', 'KRT4', 'KRT75', 'KRT76', 'KRTAP5-8', 'KYNU', 'L3MBTL1', 'LAD1', 'LAIR1', 'LAMA2', 'LAMP5', 'LAPTM4A', 'LASP1', 'LAT2', 'LBH', 'LCK', 'LCT', 'LEPR', 'LGALS3', 'LGALS9', 'LGI2', 'LGMN', 'LGR5', 'LHFPL2', 'LHX6', 'LIF', 'LILRB1', 'LIMD1', 'LIMD2', 'LIMS4', 'LIN7C', 'LMF1', 'LMNA', 'LPAR6', 'LPCAT4', 'LRP10', 'LRRC23', 'LRRC32', 'LRRC40', 'LRRD1', 'LRTM1', 'LSM12', 'LSM2', 'LSM6', 'LUM', 'LUZP4', 'LY86', 'LY9', 'LYN', 'LYPLA2', 'LYST', 'LYVE1', 'LYZ', 'M6PR', 'MAF', 'MAGEH1', 'MAGT1', 'MANSC1', 'MAP2K2', 'MAP2K3', 'MAP3K14', 'MAP3K19', 'MAP3K2', 'MAP3K9', 'MAP7D1', 'MAP7D3', 'MAPK1IP1L', 'MAPK8', 'MAPK9', 'MARCKS', 'MARCKSL1', 'MAS1', 'MAT1A', 'MAT2B', 'MATN1', 'MAX', 'MBD3', 'MBD5', 'MBOAT7', 'MBP', 'MBTPS2', 'MCC', 'MCCC2', 'MCM9', 'ME2', 'MEAF6', 'MED1', 'MED31', 'MEF2C', 'MEIS1', 'MEN1', 'MEPCE', 'MEPE', 'MET', 'METTL7A', 'MEX3D', 'MFAP2', 'MFNG', 'MFSD13A', 'MFSD5', 'MGAT2', 'MID1IP1', 'MID2', 'MIEF1', 'MIIP', 'MINDY2', 'MISP', 'MKI67', 'MLLT10', 'MLST8', 'MMP14', 'MMP19', 'MMP2', 'MMRN2', 'MOGAT2', 'MORF4L1', 'MOXD1', 'MPC2', 'MPP1', 'MPP2', 'MPP3', 'MPZ', 'MPZL1', 'MRC1', 'MRE11', 'MRM2', 'MROH7', 'MRPL33', 'MS4A6A', 'MSANTD2', 'MSN', 'MTAP', 'MTARC1', 'MTF2', 'MTOR', 'MUC3A', 'MUC5AC', 'MVK', 'MVP', 'MXRA8', 'MYBL2', 'MYC', 'MYCL', 'MYDGF', 'MYH11', 'MYH9', 'MYL10', 'MYL12B', 'MYLK', 'MYO1A', 'MYOZ3', 'MZB1', 'N4BP1', 'NAA40', 'NAAA', 'NAP1L1', 'NAT2', 'NCF2', 'NCF4', 'NCKAP1', 'NCL', 'NCR1', 'NCR3', 'NDE1', 'NDFIP1', 'NDN', 'NDRG4', 'NDUFA4', 'NDUFC2-KCTD14', 'NFASC', 'NFE2L2', 'NFKBIA', 'NHLH1', 'NID1', 'NIPAL2', 'NLK', 'NME4', 'NMNAT2', 'NOCT', 'NOD1', 'NONO', 'NOS1', 'NOX1', 'NPAP1', 'NPAT', 'NPC2', 'NPEPL1', 'NPHS2', 'NPM1', 'NPM3', 'NPY', 'NR1D1', 'NR1D2', 'NR1H2', 'NRAS', 'NRIP1', 'NRN1', 'NRP2', 'NRSN2', 'NSMCE4A', 'NTRK2', 'NTRK3', 'NUAK2', 'NUCKS1', 'NUDT11', 'NUDT7', 'NUP88', 'NXPH3', 'NXT2', 'OAS2', 'OASL', 'ODF1', 'ODR4', 'OLA1', 'OLFML1', 'OLFML3', 'OMD', 'OPCML', 'OPHN1', 'OPRPN', 'OR10H3', 'OR10J1', 'OR12D3', 'OR1D2', 'OR1E2', 'OR1F1', 'OR1G1', 'OR2S2', 'OR6A2', 'OR7A5', 'ORAI3', 'OSBPL8', 'OTUB1', 'P2RX1', 'P2RX5', 'P2RY13', 'P3H2', 'PABPC4', 'PADI3', 'PAIP1', 'PAK5', 'PALMD', 'PARD3', 'PARK7', 'PARVA', 'PARVB', 'PATZ1', 'PAWR', 'PAX8', 'PBRM1', 'PBX1', 'PCBP1', 'PCBP2', 'PCDH1', 'PCDH7', 'PCDHGA10', 'PCDHGA9', 'PCOLCE', 'PCYT1A', 'PDAP1', 'PDCD11', 'PDCD6IP', 'PDE3B', 'PDF', 'PDGFB', 'PDGFD', 'PDGFRA', 'PDGFRB', 'PDGFRL', 'PDIA3', 'PDIA4', 'PDIA6', 'PDK3', 'PDLIM1', 'PDP1', 'PDS5B', 'PEA15', 'PERP', 'PEX12', 'PFN1', 'PGAP4', 'PGC', 'PGD', 'PGK1', 'PGLS', 'PGLYRP4', 'PGPEP1', 'PGRMC2', 'PHB2', 'PHLDA1', 'PHLDB1', 'PIGO', 'PIGR', 'PIM1', 'PIM2', 'PIP4K2A', 'PJA1', 'PKM', 'PLA2G2D', 'PLAA', 'PLAAT2', 'PLAC8', 'PLAGL1', 'PLBD1', 'PLCB1', 'PLCD1', 'PLD3', 'PLEC', 'PLEK', 'PLEK2', 'PLEKHA5', 'PLEKHB2', 'PLK2', 'PLK3', 'PLOD2', 'PLPP3', 'PLS3', 'PLTP', 'PLXDC2', 'PMFBP1', 'PML', 'PNLIPRP1', 'PNO1', 'PNPLA2', 'PNPLA3', 'PNRC1', 'POGK', 'POLE3', 'POLG', 'POLR2E', 'POMGNT1', 'POMP', 'PPFIBP1', 'PPIB', 'PPID', 'PPM1A', 'PPM1G', 'PPP1CC', 'PPP1R10', 'PPP1R11', 'PPP1R14D', 'PPP1R15A', 'PPP1R2', 'PPP2R2B', 'PPP3CA', 'PPP4C', 'PPT1', 'PRAMEF10', 'PRAMEF11', 'PRAMEF2', 'PRB1', 'PRCC', 'PRDM1', 'PRDM14', 'PRDM5', 'PRELP', 'PRF1', 'PRKAR1A', 'PRKAR2A', 'PRKCA', 'PRKCI', 'PRKCQ', 'PRKCSH', 'PRKD3', 'PRKG1', 'PRNP', 'PROP1', 'PROZ', 'PRPF18', 'PRPF40A', 'PRPH2', 'PRR14L', 'PRR3', 'PRR5', 'PRRC1', 'PRRX2', 'PRSS8', 'PRUNE2', 'PRY2', 'PSG1', 'PSG5', 'PSG6', 'PSG7', 'PSG9', 'PSMD7', 'PSME3', 'PSMF1', 'PSORS1C2', 'PTAFR', 'PTCD2', 'PTDSS1', 'PTEN', 'PTER', 'PTGDS', 'PTGER4', 'PTGS1', 'PTMS', 'PTPMT1', 'PTPRC', 'PTPRCAP', 'PTPRO', 'PVRIG', 'PYCR1', 'PZP', 'QKI', 'R3HCC1', 'R3HDM4', 'RAB14', 'RAB1A', 'RAB1B', 'RAB20', 'RAB31', 'RAB32', 'RAB3IL1', 'RAB5B', 'RAB5C', 'RAB6B', 'RAB7A', 'RAB8A', 'RABEP2', 'RABL3', 'RAC2', 'RAD21', 'RAD51D', 'RALA', 'RALB', 'RALY', 'RAMP2', 'RANBP1', 'RAP1A', 'RAP2A', 'RAP2B', 'RAPGEF3', 'RARB', 'RARRES2', 'RASGRF1', 'RASSF2', 'RBM12', 'RBM3', 'RBM41', 'RBM48', 'RBM7', 'RBMS2', 'RBMS3', 'RBPMS', 'RC3H2', 'RCE1', 'RCN3', 'RCVRN', 'RECK', 'RELA', 'RELB', 'REN', 'RENBP', 'RER1', 'RFC5', 'RFPL2', 'RFPL3', 'RGS17', 'RGS19', 'RGS5', 'RGS6', 'RHAG', 'RHD', 'RHOA', 'RHOB', 'RHOBTB3', 'RHOD', 'RHOG', 'RHOQ', 'RIMS3', 'RIN1', 'RIN2', 'RIOX1', 'RIPOR2', 'RLBP1', 'RNASE1', 'RNASE3', 'RNASE6', 'RNASEL', 'RND2', 'RND3', 'RNF103-CHMP3', 'RNF11', 'RNF115', 'RNF122', 'RNF19B', 'RNF39', 'RNF5', 'RNH1', 'RNPS1', 'ROBO3', 'RORC', 'RPA2', 'RPAP2', 'RPL10A', 'RPL23', 'RPL27', 'RPL27A', 'RPL30', 'RPL31', 'RPL35A', 'RPL37', 'RPL8', 'RPN1', 'RPRD2', 'RPS10-NUDT3', 'RPS12', 'RPS15', 'RPS25', 'RPS27', 'RPS27A', 'RPS29', 'RPS3', 'RPS5', 'RPS6', 'RPS6KA5', 'RRAGA', 'RRAGD', 'RRAS', 'RRBP1', 'RRP1B', 'RSL1D1', 'RSL24D1', 'RSU1', 'RTN3', 'RTN4', 'RUBCNL', 'RUNX1T1', 'RUNX3', 'RXYLT1', 'RYBP', 'RYK', 'S100A11', 'S100A4', 'SALL2', 'SAMHD1', 'SAP30', 'SASH1', 'SASH3', 'SCARB2', 'SCD5', 'SCML2', 'SCN10A', 'SCN3B', 'SCP2', 'SDCBP', 'SDF4', 'SDHB', 'SEC14L1', 'SEC22B', 'SEC24A', 'SEC24D', 'SEC31A', 'SEC61B', 'SECTM1', 'SELENOP', 'SELP', 'SEMA3C', 'SEMA5A', 'SEMA6A', 'SEMA6D', 'SENP2', 'SERINC1', 'SERINC3', 'SERP1', 'SERPINB10', 'SERPINB3', 'SERPINB9', 'SERPINE1', 'SERPINF1', 'SERPING1', 'SERPINH1', 'SF3A2', 'SF3B4', 'SFRP4', 'SFT2D2', 'SFTPB', 'SH2B2', 'SH2B3', 'SH2D2A', 'SH3BGRL', 'SH3BP1', 'SH3GL3', 'SHOX', 'SHOX.1', 'SHOX.2', 'SHOX.3', 'SHOX.4', 'SHOX.5', 'SHOX.6', 'SHOX.7', 'SHOX.8', 'SHOX.9', 'SHOX.10', 'SHOX.11', 'SHOX.12', 'SHOX.13', 'SHOX.14', 'SHOX.15', 'SHPK', 'SIAH1', 'SIGLEC5', 'SIGLEC6', 'SIGMAR1', 'SIK1', 'SIKE1', 'SIRPB1', 'SKP1', 'SLAMF8', 'SLC10A1', 'SLC11A1', 'SLC13A3', 'SLC15A3', 'SLC16A1', 'SLC16A3', 'SLC17A3', 'SLC17A4', 'SLC17A7', 'SLC22A14', 'SLC22A2', 'SLC24A2', 'SLC25A1', 'SLC25A11', 'SLC25A16', 'SLC25A24', 'SLC25A3', 'SLC25A37', 'SLC25A5', 'SLC28A2', 'SLC29A1', 'SLC29A3', 'SLC2A14', 'SLC2A3', 'SLC2A5', 'SLC30A3', 'SLC30A5', 'SLC35A3', 'SLC38A3', 'SLC39A1', 'SLC39A2', 'SLC39A9', 'SLC43A3', 'SLC4A4', 'SLC50A1', 'SLC6A13', 'SLC6A16', 'SLC6A2', 'SLC6A6', 'SLC9A5', 'SLCO1A2', 'SLCO2A1', 'SLCO2B1', 'SLCO4A1', 'SLIT2', 'SLIT3', 'SMAD4', 'SMAD7', 'SMARCA2', 'SMARCA5', 'SMC5', 'SMCP', 'SMO', 'SMTN', 'SNAI2', 'SNAP23', 'SNAPC2', 'SNCA', 'SNRNP40', 'SNU13', 'SNX15', 'SNX27', 'SNX3', 'SNX4', 'SOD2', 'SOD2.1', 'SOD2.2', 'SOD2.3', 'SOD2.4', 'SOD2.5', 'SOD2.6', 'SOD2.7', 'SOD2.8', 'SOD2.9', 'SOD2.10', 'SOD2.11', 'SOD2.12', 'SOD2.13', 'SOD2.14', 'SOD2.15', 'SOD3', 'SORBS2', 'SOS1', 'SOX10', 'SOX15', 'SOX4', 'SP2', 'SP3', 'SPARC', 'SPART', 'SPATS2', 'SPCS1', 'SPIB', 'SPIN1', 'SPINK5', 'SPON1', 'SPON2', 'SPRR3', 'SPRY1', 'SPRY2', 'SPSB1', 'SPTBN5', 'SQSTM1', 'SRC', 'SRGN', 'SRP14', 'SRP9', 'SRR', 'SRRM1', 'SRSF9', 'SSBP3', 'SSH1', 'SSPN', 'SSR1', 'SSRP1', 'SSTR4', 'SSUH2', 'SSX2', 'SSX3', 'STAB1', 'STAC', 'STAT6', 'STK11', 'STK17A', 'STK24', 'STRAP', 'STRN3', 'STS', 'STX17', 'SUB1', 'SUCLG2', 'SULT1B1', 'SUMO2', 'SUMO3', 'SUPT6H', 'SV2B', 'SVEP1', 'SYN1', 'SYN2', 'SYNJ2BP-COX16', 'SYPL1', 'SYT2', 'TAAR2', 'TAAR5', 'TAC3', 'TACR1', 'TAF1', 'TAF10', 'TAF6L', 'TAGLN', 'TANK', 'TAS2R1', 'TBC1D1', 'TBC1D10B', 'TBC1D30', 'TBL1XR1', 'TBPL1', 'TBX21', 'TBXA2R', 'TCEAL1', 'TCEAL9', 'TCF15', 'TCF20', 'TCN2', 'TCTN2', 'TDRD12', 'TEK', 'TERF2', 'TET3', 'TFAP2A', 'TFCP2L1', 'TFPI', 'TGFA', 'TGFB1', 'TGFB1I1', 'TGFBI', 'TGIF1', 'TGOLN2', 'THEM6', 'THEMIS2', 'THRB', 'TIAM2', 'TIMP2', 'TINAGL1', 'TIPRL', 'TLCD3A', 'TLE4', 'TLE5', 'TM4SF4', 'TM6SF1', 'TM6SF2', 'TM9SF2', 'TMCO3', 'TMED10', 'TMED7-TICAM2', 'TMEM106B', 'TMEM109', 'TMEM123', 'TMEM131', 'TMEM131L', 'TMEM14B', 'TMEM151B', 'TMEM159', 'TMEM160', 'TMEM176A', 'TMEM176B', 'TMEM185B', 'TMEM256-PLSCR3', 'TMEM258', 'TMEM259', 'TMEM260', 'TMEM30A', 'TMEM43', 'TMOD1', 'TMPRSS11D', 'TMPRSS15', 'TMSB4X', 'TMSB4Y', 'TMX4', 'TNFAIP3', 'TNFAIP8', 'TNFRSF1A', 'TNFRSF9', 'TNFSF10', 'TNFSF13', 'TNFSF8', 'TNK1', 'TNPO1', 'TNRC6B', 'TOB2', 'TOM1', 'TOMM22', 'TOMM34', 'TP53', 'TP53TG3D', 'TP63', 'TPI1', 'TPM4', 'TPMT', 'TPSB2', 'TRAF1', 'TRAF3IP2', 'TRAM1', 'TRAPPC9', 'TREM1', 'TRIM16', 'TRIM21', 'TRIM22', 'TRIM29', 'TRIM32', 'TRIM66', 'TRIM8', 'TRIOBP', 'TRIP11', 'TRIP6', 'TRMT2B', 'TRMT5', 'TRPM3', 'TRPM6', 'TRPS1', 'TRPV5', 'TSC22D4', 'TSHB', 'TSHZ2', 'TSKU', 'TSNAX-DISC1', 'TSPAN14', 'TSPAN5', 'TSPO2', 'TSPYL1', 'TTC22', 'TTC28', 'TUBB6', 'TUBGCP4', 'TUFM', 'TUG1', 'TVP23B', 'TXNDC5', 'TXNIP', 'TYMP', 'TYR', 'TYRO3', 'TYROBP', 'U2AF2', 'UBAP1', 'UBAP2', 'UBE2D3', 'UBE2D4', 'UBE2G1', 'UBE2H', 'UBE2M', 'UBL3', 'UBQLN2', 'UFL1', 'UFM1', 'UGCG', 'UGP2', 'UGT1A9', 'UMOD', 'UNC93B1', 'UQCRFS1', 'USH1C', 'USP29', 'USP8', 'VAMP3', 'VASP', 'VCY1B', 'VGLL4', 'VIM', 'VKORC1', 'VPS41', 'VPS72', 'VRTN', 'VSIG4', 'VSNL1', 'WAS', 'WASHC5', 'WASL', 'WDR48', 'WDR5B', 'WDTC1', 'WFDC1', 'WIPF1', 'WIPI2', 'WLS', 'WNK1', 'WNT10B', 'WNT2', 'WNT5A', 'WNT5B', 'WNT6', 'WRAP53', 'WSCD1', 'WTAP', 'WWC2', 'WWP1', 'XCL1', 'XPNPEP3', 'YBX1', 'YBX3', 'YIF1B', 'YIPF2', 'YIPF4', 'YLPM1', 'YME1L1', 'YPEL1', 'YTHDF2', 'YWHAE', 'YWHAH', 'YY1', 'YY2', 'ZBED1', 'ZBED1.1', 'ZBED1.2', 'ZBED1.3', 'ZBED1.4', 'ZBED1.5', 'ZBED1.6', 'ZBED1.7', 'ZBED1.8', 'ZBED1.9', 'ZBED1.10', 'ZBED1.11', 'ZBED1.12', 'ZBED1.13', 'ZBED1.14', 'ZBED1.15', 'ZBTB20', 'ZBTB38', 'ZBTB43', 'ZC4H2', 'ZCCHC4', 'ZDHHC4', 'ZFAND6', 'ZFHX4', 'ZFP36', 'ZFP36L1', 'ZFP64', 'ZIM2', 'ZMAT3', 'ZMAT4', 'ZNF117', 'ZNF12', 'ZNF124', 'ZNF136', 'ZNF148', 'ZNF236', 'ZNF253', 'ZNF264', 'ZNF280A', 'ZNF292', 'ZNF331', 'ZNF358', 'ZNF43', 'ZNF430', 'ZNF460', 'ZNF507', 'ZNF510', 'ZNF536', 'ZNF552', 'ZNF652', 'ZNF665', 'ZNF669', 'ZNF729', 'ZNF747', 'ZNF816-ZNF321P', 'ZNF835', 'ZNF91', 'ZNF93', 'ZYX']\n"
     ]
    }
   ],
   "source": [
    "genes = []\n",
    "for gene in data.columns:\n",
    "    t = ttest_ind(valid[gene], train[gene])\n",
    "    if t[1] < 0.05 and t[0] > 1:\n",
    "        genes.append(gene)\n",
    "\n",
    "print(genes)"
   ]
  }
 ],
 "metadata": {
  "kernelspec": {
   "display_name": "Python 3",
   "language": "python",
   "name": "python3"
  },
  "language_info": {
   "codemirror_mode": {
    "name": "ipython",
    "version": 3
   },
   "file_extension": ".py",
   "mimetype": "text/x-python",
   "name": "python",
   "nbconvert_exporter": "python",
   "pygments_lexer": "ipython3",
   "version": "3.8.5"
  }
 },
 "nbformat": 4,
 "nbformat_minor": 5
}
