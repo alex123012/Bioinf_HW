{
 "cells": [
  {
   "cell_type": "markdown",
   "metadata": {
    "id": "G--3crVy-klN"
   },
   "source": [
    "# 3"
   ]
  },
  {
   "cell_type": "code",
   "execution_count": 1,
   "metadata": {
    "id": "JkJ6x0AQLpnP"
   },
   "outputs": [],
   "source": [
    "import pandas as pd\n",
    "import numpy as np\n",
    "\n",
    "from sklearn.datasets import make_circles\n",
    "from sklearn.svm import SVC\n",
    "from sklearn.metrics import accuracy_score, classification_report\n",
    "from sklearn.model_selection import train_test_split\n",
    "from sklearn.metrics import confusion_matrix, plot_roc_curve\n",
    "\n",
    "import seaborn as sns\n",
    "import matplotlib.pyplot as plt\n",
    "from sklearn.decomposition import PCA\n",
    "import time"
   ]
  },
  {
   "cell_type": "code",
   "execution_count": 2,
   "metadata": {},
   "outputs": [],
   "source": [
    "def print_metrics(y_test, y_pred, model, X_test):\n",
    "    matrix = confusion_matrix(y_test, y_pred)\n",
    "\n",
    "    tn = matrix[0, 0]\n",
    "    tp = matrix[1, 1]\n",
    "    fn = matrix[1, 0]\n",
    "    fp = matrix[0, 1]\n",
    "\n",
    "    tpr = tp / (tp + fn)\n",
    "    tnr = tn / (tn + fp)\n",
    "\n",
    "    print('accuracy =', accuracy_score(y_test, y_pred),\n",
    "          '\\nTPR =', tpr,\n",
    "          '\\nTNR =', tnr, '\\n')\n",
    "\n",
    "    print(classification_report(y_test, y_pred))\n",
    "\n",
    "    plot_roc_curve(model, X_test, y_test)\n",
    "    plt.plot(1 - tpr, tnr, \"x\", c=\"red\")\n",
    "    plt.show()"
   ]
  },
  {
   "cell_type": "code",
   "execution_count": 3,
   "metadata": {
    "id": "x3CdnJVAmTzg"
   },
   "outputs": [
    {
     "name": "stdout",
     "output_type": "stream",
     "text": [
      "accuracy = 0.9463087248322147 \n",
      "TPR = 0.9347826086956522 \n",
      "TNR = 0.9514563106796117 \n",
      "\n",
      "              precision    recall  f1-score   support\n",
      "\n",
      "   Luminal A       0.97      0.95      0.96       103\n",
      "   Luminal B       0.90      0.93      0.91        46\n",
      "\n",
      "    accuracy                           0.95       149\n",
      "   macro avg       0.93      0.94      0.94       149\n",
      "weighted avg       0.95      0.95      0.95       149\n",
      "\n"
     ]
    },
    {
     "data": {
      "image/png": "[encoded data removed]",
      "text/plain": [
       "<Figure size 432x288 with 1 Axes>"
      ]
     },
     "metadata": {
      "needs_background": "light"
     },
     "output_type": "display_data"
    }
   ],
   "source": [
    "path = 'https://raw.githubusercontent.com/s-a-nersisyan/HSE_bioinformatics_2021/master/seminar16/BRCA_pam50.tsv'\n",
    "data = pd.read_csv(path, sep='\\t', index_col=0)\n",
    "data = data.loc[data['Subtype'].isin(['Luminal A', 'Luminal B'])]\n",
    "\n",
    "X = data.iloc[:, :-1].to_numpy()\n",
    "y = data['Subtype'].to_numpy()\n",
    "X_train, X_test, y_train, y_test = train_test_split(X, y, stratify=y, random_state=42)\n",
    "\n",
    "model = SVC(kernel=\"linear\")\n",
    "model.fit(X_train, y_train)\n",
    "\n",
    "y_pred = model.predict(X_test)\n",
    "\n",
    "print_metrics(y_test, y_pred, model, X_test)"
   ]
  },
  {
   "cell_type": "code",
   "execution_count": 4,
   "metadata": {
    "id": "HrOK8tfGon3H"
   },
   "outputs": [
    {
     "data": {
      "text/plain": [
       "['FOXC1', 'BAG1', 'MELK', 'UBE2T', 'KRT17', 'Subtype']"
      ]
     },
     "execution_count": 4,
     "metadata": {},
     "output_type": "execute_result"
    }
   ],
   "source": [
    "tmp = data.iloc[:, :-1].copy()\n",
    "tmp.loc['coef'] = model.coef_[0]\n",
    "top = tmp.T.sort_values(['coef'], ascending=False, key=abs).head().index.tolist() + ['Subtype']\n",
    "top"
   ]
  },
  {
   "cell_type": "code",
   "execution_count": 5,
   "metadata": {
    "id": "p9SKO43CuJsj"
   },
   "outputs": [
    {
     "name": "stdout",
     "output_type": "stream",
     "text": [
      "accuracy = 0.9060402684563759 \n",
      "TPR = 0.8478260869565217 \n",
      "TNR = 0.9320388349514563 \n",
      "\n",
      "              precision    recall  f1-score   support\n",
      "\n",
      "   Luminal A       0.93      0.93      0.93       103\n",
      "   Luminal B       0.85      0.85      0.85        46\n",
      "\n",
      "    accuracy                           0.91       149\n",
      "   macro avg       0.89      0.89      0.89       149\n",
      "weighted avg       0.91      0.91      0.91       149\n",
      "\n"
     ]
    },
    {
     "data": {
      "image/png": "[encoded data removed]",
      "text/plain": [
       "<Figure size 432x288 with 1 Axes>"
      ]
     },
     "metadata": {
      "needs_background": "light"
     },
     "output_type": "display_data"
    }
   ],
   "source": [
    "preproc = data[top]\n",
    "\n",
    "X = preproc.iloc[:, :-1].to_numpy()\n",
    "y = preproc['Subtype'].to_numpy()\n",
    "X_train, X_test, y_train, y_test = train_test_split(X, y, stratify=y, random_state=42)\n",
    "\n",
    "model = SVC(kernel=\"linear\")\n",
    "model.fit(X_train, y_train)\n",
    "\n",
    "y_pred = model.predict(X_test)\n",
    "\n",
    "print_metrics(y_test, y_pred, model, X_test)"
   ]
  },
  {
   "cell_type": "markdown",
   "metadata": {
    "id": "yNixjm_q9YcG"
   },
   "source": [
    "# 4"
   ]
  },
  {
   "cell_type": "code",
   "execution_count": 6,
   "metadata": {},
   "outputs": [
    {
     "name": "stdout",
     "output_type": "stream",
     "text": [
      "(915, 51)\n"
     ]
    }
   ],
   "source": [
    "data = pd.read_csv(path, sep='\\t', index_col=0)\n",
    "print(data.shape)"
   ]
  },
  {
   "cell_type": "code",
   "execution_count": 7,
   "metadata": {
    "colab": {
     "base_uri": "https://localhost:8080/"
    },
    "id": "_CpQMl_E0pwP",
    "outputId": "91467b6b-cb34-4021-cd8d-e54d447bdaeb"
   },
   "outputs": [
    {
     "name": "stdout",
     "output_type": "stream",
     "text": [
      "accuracy = 0.9301310043668122 \n",
      "\n",
      "conf matrix:\n",
      "[[ 16   0   0   0   0   0]\n",
      " [  0  24   0   0   1   0]\n",
      " [  1   0 101   0   1   0]\n",
      " [  1   0   9  36   0   0]\n",
      " [  1   1   1   0   2   0]\n",
      " [  0   0   0   0   0  34]]\n",
      "\n",
      "                 precision    recall  f1-score   support\n",
      "\n",
      "  HER2-enriched       0.84      1.00      0.91        16\n",
      "        Healthy       0.96      0.96      0.96        25\n",
      "      Luminal A       0.91      0.98      0.94       103\n",
      "      Luminal B       1.00      0.78      0.88        46\n",
      "    Normal-like       0.50      0.40      0.44         5\n",
      "Triple-negative       1.00      1.00      1.00        34\n",
      "\n",
      "       accuracy                           0.93       229\n",
      "      macro avg       0.87      0.85      0.86       229\n",
      "   weighted avg       0.93      0.93      0.93       229\n",
      "\n"
     ]
    }
   ],
   "source": [
    "X = data.iloc[:, :-1].to_numpy()\n",
    "y = data['Subtype'].to_numpy()\n",
    "X_train, X_test, y_train, y_test = train_test_split(X, y, stratify=y, random_state=13)\n",
    "\n",
    "model = SVC(kernel=\"linear\", decision_function_shape='ovr')\n",
    "model.fit(X_train, y_train)\n",
    "\n",
    "y_pred = model.predict(X_test)\n",
    "\n",
    "print('accuracy =', accuracy_score(y_test, y_pred), '\\n')\n",
    "\n",
    "print('conf matrix:\\n', confusion_matrix(y_test, y_pred), '\\n', sep='')\n",
    "\n",
    "print(classification_report(y_test, y_pred))"
   ]
  },
  {
   "cell_type": "code",
   "execution_count": 8,
   "metadata": {
    "colab": {
     "base_uri": "https://localhost:8080/"
    },
    "id": "TnvZfaWI-NoK",
    "outputId": "4a80514c-862c-4041-8777-62534010e9a7"
   },
   "outputs": [
    {
     "name": "stdout",
     "output_type": "stream",
     "text": [
      "accuracy = 0.9082969432314411 \n",
      "\n",
      "conf matrix:\n",
      "[[11  0  1  3  1  0]\n",
      " [ 0 24  1  0  0  0]\n",
      " [ 1  0 97  4  1  0]\n",
      " [ 1  0  5 40  0  0]\n",
      " [ 0  1  1  0  3  0]\n",
      " [ 0  0  0  0  1 33]]\n",
      "\n",
      "                 precision    recall  f1-score   support\n",
      "\n",
      "  HER2-enriched       0.85      0.69      0.76        16\n",
      "        Healthy       0.96      0.96      0.96        25\n",
      "      Luminal A       0.92      0.94      0.93       103\n",
      "      Luminal B       0.85      0.87      0.86        46\n",
      "    Normal-like       0.50      0.60      0.55         5\n",
      "Triple-negative       1.00      0.97      0.99        34\n",
      "\n",
      "       accuracy                           0.91       229\n",
      "      macro avg       0.85      0.84      0.84       229\n",
      "   weighted avg       0.91      0.91      0.91       229\n",
      "\n"
     ]
    }
   ],
   "source": [
    "pca = PCA(n_components=2)\n",
    "\n",
    "X = data.iloc[:, :-1].to_numpy()\n",
    "X = pca.fit_transform(X)\n",
    "y = data['Subtype'].to_numpy()\n",
    "\n",
    "X_train, X_test, y_train, y_test = train_test_split(X, y, stratify=y, random_state=13)\n",
    "\n",
    "model = SVC(kernel=\"linear\", decision_function_shape='ovr')\n",
    "model.fit(X_train, y_train)\n",
    "\n",
    "y_pred = model.predict(X_test)\n",
    "\n",
    "print('accuracy =', accuracy_score(y_test, y_pred), '\\n')\n",
    "\n",
    "print('conf matrix:\\n', confusion_matrix(y_test, y_pred), '\\n', sep='')\n",
    "\n",
    "print(classification_report(y_test, y_pred))"
   ]
  },
  {
   "cell_type": "markdown",
   "metadata": {
    "id": "2bl3ZU1k-iZK"
   },
   "source": [
    "# 5"
   ]
  },
  {
   "cell_type": "code",
   "execution_count": 9,
   "metadata": {
    "colab": {
     "base_uri": "https://localhost:8080/",
     "height": 380
    },
    "id": "mMadTEw4DcRb",
    "outputId": "bf956fc8-134c-46b9-b884-78f4bfbafd90"
   },
   "outputs": [
    {
     "name": "stdout",
     "output_type": "stream",
     "text": [
      "time =  0.009143352508544922\n",
      "accuracy = 1.0 \n",
      "TPR = 1.0 \n",
      "TNR = 1.0 \n",
      "\n",
      "              precision    recall  f1-score   support\n",
      "\n",
      "           0       1.00      1.00      1.00      2500\n",
      "           1       1.00      1.00      1.00      2500\n",
      "\n",
      "    accuracy                           1.00      5000\n",
      "   macro avg       1.00      1.00      1.00      5000\n",
      "weighted avg       1.00      1.00      1.00      5000\n",
      "\n"
     ]
    },
    {
     "data": {
      "image/png": "[encoded data removed]",
      "text/plain": [
       "<Figure size 432x288 with 1 Axes>"
      ]
     },
     "metadata": {
      "needs_background": "light"
     },
     "output_type": "display_data"
    }
   ],
   "source": [
    "N = 10000\n",
    "X1 = np.random.normal(loc=0, size=(N, 2))\n",
    "X2 = np.random.normal(loc=10, size=(N, 2))\n",
    "X = np.vstack([X1, X2])\n",
    "y = np.array([0]*N + [1]*N)\n",
    "\n",
    "X_train, X_test, y_train, y_test = train_test_split(X, y, stratify=y,\n",
    "                                                    random_state=13)\n",
    "model = SVC(kernel=\"linear\")\n",
    "start_time = time.time()\n",
    "model.fit(X_train, y_train)\n",
    "y_pred = model.predict(X_test)\n",
    "\n",
    "print(\"time = \" , time.time() - start_time)\n",
    "\n",
    "print_metrics(y_test, y_pred, model, X_test)"
   ]
  },
  {
   "cell_type": "code",
   "execution_count": 10,
   "metadata": {
    "colab": {
     "base_uri": "https://localhost:8080/",
     "height": 380
    },
    "id": "_kvawqPjC0wC",
    "outputId": "7f78bbb5-30e7-4050-e8fe-d6fc052a740b"
   },
   "outputs": [
    {
     "name": "stdout",
     "output_type": "stream",
     "text": [
      "time =  8.468066215515137\n",
      "accuracy = 0.4894 \n",
      "TPR = 0.4964 \n",
      "TNR = 0.4824 \n",
      "\n",
      "              precision    recall  f1-score   support\n",
      "\n",
      "           0       0.49      0.48      0.49      2500\n",
      "           1       0.49      0.50      0.49      2500\n",
      "\n",
      "    accuracy                           0.49      5000\n",
      "   macro avg       0.49      0.49      0.49      5000\n",
      "weighted avg       0.49      0.49      0.49      5000\n",
      "\n"
     ]
    },
    {
     "data": {
      "image/png": "[encoded data removed]",
      "text/plain": [
       "<Figure size 432x288 with 1 Axes>"
      ]
     },
     "metadata": {
      "needs_background": "light"
     },
     "output_type": "display_data"
    }
   ],
   "source": [
    "N = 10000\n",
    "X1 = np.random.normal(loc=0, size=(N, 2))\n",
    "X2 = np.random.normal(loc=0, size=(N, 2))\n",
    "X = np.vstack([X1, X2])\n",
    "y = np.array([0]*N + [1]*N)\n",
    "\n",
    "X_train, X_test, y_train, y_test = train_test_split(X, y, stratify=y,\n",
    "                                                    random_state=13)\n",
    "model = SVC(kernel=\"linear\")\n",
    "start_time = time.time()\n",
    "model.fit(X_train, y_train)\n",
    "y_pred = model.predict(X_test)\n",
    "\n",
    "print(\"time = \" , time.time() - start_time)\n",
    "\n",
    "print_metrics(y_test, y_pred, model, X_test)"
   ]
  }
 ],
 "metadata": {
  "colab": {
   "name": "HW16.ipynb",
   "provenance": []
  },
  "kernelspec": {
   "display_name": "Python 3",
   "language": "python",
   "name": "python3"
  },
  "language_info": {
   "codemirror_mode": {
    "name": "ipython",
    "version": 3
   },
   "file_extension": ".py",
   "mimetype": "text/x-python",
   "name": "python",
   "nbconvert_exporter": "python",
   "pygments_lexer": "ipython3",
   "version": "3.8.5"
  }
 },
 "nbformat": 4,
 "nbformat_minor": 1
}
